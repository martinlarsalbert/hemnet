{
 "cells": [
  {
   "cell_type": "code",
   "execution_count": 52,
   "metadata": {},
   "outputs": [],
   "source": [
    "import pandas as pd\n",
    "import matplotlib.pyplot as plt\n",
    "from matplotlib.pylab import rcParams\n",
    "rcParams['figure.figsize'] = 20, 10\n",
    "import re"
   ]
  },
  {
   "cell_type": "code",
   "execution_count": 73,
   "metadata": {},
   "outputs": [],
   "source": [
    "house_data = pd.read_csv('house_data.csv',index_col = 0)"
   ]
  },
  {
   "cell_type": "code",
   "execution_count": 77,
   "metadata": {},
   "outputs": [
    {
     "data": {
      "text/html": [
       "<div>\n",
       "<style scoped>\n",
       "    .dataframe tbody tr th:only-of-type {\n",
       "        vertical-align: middle;\n",
       "    }\n",
       "\n",
       "    .dataframe tbody tr th {\n",
       "        vertical-align: top;\n",
       "    }\n",
       "\n",
       "    .dataframe thead th {\n",
       "        text-align: right;\n",
       "    }\n",
       "</style>\n",
       "<table border=\"1\" class=\"dataframe\">\n",
       "  <thead>\n",
       "    <tr style=\"text-align: right;\">\n",
       "      <th></th>\n",
       "      <th>Antal rum</th>\n",
       "      <th>Avgift/månad</th>\n",
       "      <th>Begärt pris</th>\n",
       "      <th>Boarea</th>\n",
       "      <th>Byggår</th>\n",
       "      <th>Driftskostnad</th>\n",
       "      <th>Förening</th>\n",
       "      <th>Pris per kvadratmeter</th>\n",
       "      <th>Prisutveckling</th>\n",
       "      <th>address</th>\n",
       "      <th>coordinate</th>\n",
       "      <th>id</th>\n",
       "      <th>map_url</th>\n",
       "      <th>price</th>\n",
       "      <th>sale_date</th>\n",
       "      <th>type</th>\n",
       "      <th>url</th>\n",
       "      <th>Biarea</th>\n",
       "      <th>Tomtarea</th>\n",
       "    </tr>\n",
       "  </thead>\n",
       "  <tbody>\n",
       "    <tr>\n",
       "      <th>938778</th>\n",
       "      <td>4.0</td>\n",
       "      <td>5604.0</td>\n",
       "      <td>2475000.0</td>\n",
       "      <td>103.0</td>\n",
       "      <td>2008.0</td>\n",
       "      <td>9600.0</td>\n",
       "      <td>\\n          Brf Höjdpunkten\\n</td>\n",
       "      <td>24757.0</td>\n",
       "      <td>\\n\\n        +75 000 kr (+3 %)\\n</td>\n",
       "      <td>Björkhagegatan 6</td>\n",
       "      <td>[57.92291326887233, 12.502651264129536]</td>\n",
       "      <td>938778.0</td>\n",
       "      <td>https://maps.googleapis.com/maps/api/js?librar...</td>\n",
       "      <td>2550000.0</td>\n",
       "      <td>Såld 2019-01-28</td>\n",
       "      <td>bostadsratt</td>\n",
       "      <td>/salda/bostadsratt-4rum-stadsskogen-alingsas-k...</td>\n",
       "      <td>NaN</td>\n",
       "      <td>NaN</td>\n",
       "    </tr>\n",
       "    <tr>\n",
       "      <th>938744</th>\n",
       "      <td>7.0</td>\n",
       "      <td>NaN</td>\n",
       "      <td>1995000.0</td>\n",
       "      <td>175.0</td>\n",
       "      <td>1958.0</td>\n",
       "      <td>52400.0</td>\n",
       "      <td>NaN</td>\n",
       "      <td>13029.0</td>\n",
       "      <td>\\n\\n        +285 000 kr (+14 %)\\n</td>\n",
       "      <td>Ekebackevägen 1</td>\n",
       "      <td>[58.47241420896091, 11.669846459571746]</td>\n",
       "      <td>938744.0</td>\n",
       "      <td>https://maps.googleapis.com/maps/api/js?librar...</td>\n",
       "      <td>2280000.0</td>\n",
       "      <td>Såld 2019-01-28</td>\n",
       "      <td>villa</td>\n",
       "      <td>/salda/villa-7rum-lilla-foss-munkedals-kommun-...</td>\n",
       "      <td>145.0</td>\n",
       "      <td>1483.0</td>\n",
       "    </tr>\n",
       "    <tr>\n",
       "      <th>938717</th>\n",
       "      <td>5.0</td>\n",
       "      <td>NaN</td>\n",
       "      <td>3495000.0</td>\n",
       "      <td>103.0</td>\n",
       "      <td>1979.0</td>\n",
       "      <td>38865.0</td>\n",
       "      <td>NaN</td>\n",
       "      <td>32330.0</td>\n",
       "      <td>\\n\\n        -165 000 kr (-5 %)\\n</td>\n",
       "      <td>Agnebäcksvägen 24</td>\n",
       "      <td>[57.69013704556706, 12.208904027993107]</td>\n",
       "      <td>938717.0</td>\n",
       "      <td>https://maps.googleapis.com/maps/api/js?librar...</td>\n",
       "      <td>3330000.0</td>\n",
       "      <td>Såld 2019-01-28</td>\n",
       "      <td>radhus</td>\n",
       "      <td>/salda/radhus-5rum-landvetter-harryda-kommun-a...</td>\n",
       "      <td>NaN</td>\n",
       "      <td>201.0</td>\n",
       "    </tr>\n",
       "    <tr>\n",
       "      <th>938962</th>\n",
       "      <td>5.0</td>\n",
       "      <td>NaN</td>\n",
       "      <td>2275000.0</td>\n",
       "      <td>137.0</td>\n",
       "      <td>1980.0</td>\n",
       "      <td>36000.0</td>\n",
       "      <td>NaN</td>\n",
       "      <td>16606.0</td>\n",
       "      <td>\\n</td>\n",
       "      <td>Tvåöringsgränd 12</td>\n",
       "      <td>[58.377188776295206, 11.952471921867492]</td>\n",
       "      <td>938962.0</td>\n",
       "      <td>https://maps.googleapis.com/maps/api/js?librar...</td>\n",
       "      <td>2275000.0</td>\n",
       "      <td>Såld 2019-01-28</td>\n",
       "      <td>villa</td>\n",
       "      <td>/salda/villa-5rum-helenedal-uddevalla-kommun-t...</td>\n",
       "      <td>21.0</td>\n",
       "      <td>346.0</td>\n",
       "    </tr>\n",
       "    <tr>\n",
       "      <th>938923</th>\n",
       "      <td>3.0</td>\n",
       "      <td>4492.0</td>\n",
       "      <td>2650000.0</td>\n",
       "      <td>70.0</td>\n",
       "      <td>2016.0</td>\n",
       "      <td>NaN</td>\n",
       "      <td>\\n          BRF Lergöken\\n</td>\n",
       "      <td>40000.0</td>\n",
       "      <td>\\n\\n        +150 000 kr (+6 %)\\n</td>\n",
       "      <td>Lergöksgatan 15</td>\n",
       "      <td>[57.65738875448929, 11.9003493296695]</td>\n",
       "      <td>938923.0</td>\n",
       "      <td>https://maps.googleapis.com/maps/api/js?librar...</td>\n",
       "      <td>2800000.0</td>\n",
       "      <td>Såld 2019-01-28</td>\n",
       "      <td>bostadsratt</td>\n",
       "      <td>/salda/bostadsratt-3rum-frolunda-goteborgs-kom...</td>\n",
       "      <td>NaN</td>\n",
       "      <td>NaN</td>\n",
       "    </tr>\n",
       "  </tbody>\n",
       "</table>\n",
       "</div>"
      ],
      "text/plain": [
       "        Antal rum  Avgift/månad  Begärt pris  Boarea  Byggår  Driftskostnad  \\\n",
       "938778        4.0        5604.0    2475000.0   103.0  2008.0         9600.0   \n",
       "938744        7.0           NaN    1995000.0   175.0  1958.0        52400.0   \n",
       "938717        5.0           NaN    3495000.0   103.0  1979.0        38865.0   \n",
       "938962        5.0           NaN    2275000.0   137.0  1980.0        36000.0   \n",
       "938923        3.0        4492.0    2650000.0    70.0  2016.0            NaN   \n",
       "\n",
       "                                      Förening  Pris per kvadratmeter  \\\n",
       "938778  \\n          Brf Höjdpunkten\\n                        24757.0   \n",
       "938744                                     NaN                13029.0   \n",
       "938717                                     NaN                32330.0   \n",
       "938962                                     NaN                16606.0   \n",
       "938923     \\n          BRF Lergöken\\n                        40000.0   \n",
       "\n",
       "                                 Prisutveckling            address  \\\n",
       "938778    \\n\\n        +75 000 kr (+3 %)\\n         Björkhagegatan 6   \n",
       "938744  \\n\\n        +285 000 kr (+14 %)\\n          Ekebackevägen 1   \n",
       "938717   \\n\\n        -165 000 kr (-5 %)\\n        Agnebäcksvägen 24   \n",
       "938962                                       \\n  Tvåöringsgränd 12   \n",
       "938923   \\n\\n        +150 000 kr (+6 %)\\n          Lergöksgatan 15   \n",
       "\n",
       "                                      coordinate        id  \\\n",
       "938778   [57.92291326887233, 12.502651264129536]  938778.0   \n",
       "938744   [58.47241420896091, 11.669846459571746]  938744.0   \n",
       "938717   [57.69013704556706, 12.208904027993107]  938717.0   \n",
       "938962  [58.377188776295206, 11.952471921867492]  938962.0   \n",
       "938923     [57.65738875448929, 11.9003493296695]  938923.0   \n",
       "\n",
       "                                                  map_url      price  \\\n",
       "938778  https://maps.googleapis.com/maps/api/js?librar...  2550000.0   \n",
       "938744  https://maps.googleapis.com/maps/api/js?librar...  2280000.0   \n",
       "938717  https://maps.googleapis.com/maps/api/js?librar...  3330000.0   \n",
       "938962  https://maps.googleapis.com/maps/api/js?librar...  2275000.0   \n",
       "938923  https://maps.googleapis.com/maps/api/js?librar...  2800000.0   \n",
       "\n",
       "              sale_date         type  \\\n",
       "938778  Såld 2019-01-28  bostadsratt   \n",
       "938744  Såld 2019-01-28        villa   \n",
       "938717  Såld 2019-01-28       radhus   \n",
       "938962  Såld 2019-01-28        villa   \n",
       "938923  Såld 2019-01-28  bostadsratt   \n",
       "\n",
       "                                                      url  Biarea  Tomtarea  \n",
       "938778  /salda/bostadsratt-4rum-stadsskogen-alingsas-k...     NaN       NaN  \n",
       "938744  /salda/villa-7rum-lilla-foss-munkedals-kommun-...   145.0    1483.0  \n",
       "938717  /salda/radhus-5rum-landvetter-harryda-kommun-a...     NaN     201.0  \n",
       "938962  /salda/villa-5rum-helenedal-uddevalla-kommun-t...    21.0     346.0  \n",
       "938923  /salda/bostadsratt-3rum-frolunda-goteborgs-kom...     NaN       NaN  "
      ]
     },
     "execution_count": 77,
     "metadata": {},
     "output_type": "execute_result"
    }
   ],
   "source": [
    "house_data.head()"
   ]
  },
  {
   "cell_type": "code",
   "execution_count": 75,
   "metadata": {},
   "outputs": [],
   "source": [
    "regexp = re.compile('(\\d+)')\n",
    "\n",
    "def find_numbers(text):\n",
    "\n",
    "    if pd.isnull(text):\n",
    "        return text\n",
    "    \n",
    "    try:\n",
    "        text_ = re.sub('m2','',text)\n",
    "    except:\n",
    "        return text\n",
    "    \n",
    "    try:\n",
    "        results = regexp.findall(text_)\n",
    "    except:\n",
    "        return text_\n",
    "    \n",
    "    price_str = ''\n",
    "    for result in results:\n",
    "        price_str+=result\n",
    "    \n",
    "    try:\n",
    "        price = float(price_str)\n",
    "    except:\n",
    "        price = None\n",
    "    \n",
    "    return price"
   ]
  },
  {
   "cell_type": "code",
   "execution_count": 101,
   "metadata": {},
   "outputs": [],
   "source": [
    "date_regexp = re.compile('(\\d\\d\\d\\d-\\d\\d-\\d\\d)')\n",
    "def find_date(date_string):\n",
    "    result = date_regexp.search(date_string)\n",
    "    return result.group(1)\n",
    "\n"
   ]
  },
  {
   "cell_type": "code",
   "execution_count": 109,
   "metadata": {},
   "outputs": [],
   "source": [
    "house_data['sale_date'] = pd.to_datetime(house_data['sale_date'].apply(func = find_date))\n",
    "\n"
   ]
  },
  {
   "cell_type": "code",
   "execution_count": 110,
   "metadata": {},
   "outputs": [],
   "source": [
    "col_names = ['Antal rum','Avgift/månad','Begärt pris','Boarea','Byggår','Driftskostnad','Pris per kvadratmeter','price','Tomtarea','Biarea']\n",
    "\n",
    "for col_name in col_names:\n",
    "    house_data[col_name] = house_data[col_name].apply(find_numbers)"
   ]
  },
  {
   "cell_type": "code",
   "execution_count": 111,
   "metadata": {},
   "outputs": [
    {
     "data": {
      "text/plain": [
       "<matplotlib.axes._subplots.AxesSubplot at 0x1412930b8>"
      ]
     },
     "execution_count": 111,
     "metadata": {},
     "output_type": "execute_result"
    },
    {
     "data": {
      "image/png": "[encoded data removed]",
      "text/plain": [
       "<Figure size 1440x720 with 1 Axes>"
      ]
     },
     "metadata": {
      "needs_background": "light"
     },
     "output_type": "display_data"
    }
   ],
   "source": [
    "fig,ax = plt.subplots()\n",
    "house_data['price'].hist(bins = 20,ax = ax)"
   ]
  },
  {
   "cell_type": "code",
   "execution_count": 112,
   "metadata": {},
   "outputs": [
    {
     "data": {
      "text/plain": [
       "<matplotlib.axes._subplots.AxesSubplot at 0x143190518>"
      ]
     },
     "execution_count": 112,
     "metadata": {},
     "output_type": "execute_result"
    },
    {
     "data": {
      "image/png": "[encoded data removed]",
      "text/plain": [
       "<Figure size 1440x720 with 1 Axes>"
      ]
     },
     "metadata": {
      "needs_background": "light"
     },
     "output_type": "display_data"
    }
   ],
   "source": [
    "fig,ax = plt.subplots()\n",
    "house_data['Pris per kvadratmeter'].hist(bins = 100,ax = ax)"
   ]
  },
  {
   "cell_type": "code",
   "execution_count": 141,
   "metadata": {},
   "outputs": [
    {
     "data": {
      "text/plain": [
       "<matplotlib.axes._subplots.AxesSubplot at 0x1542a3eb8>"
      ]
     },
     "execution_count": 141,
     "metadata": {},
     "output_type": "execute_result"
    },
    {
     "data": {
      "image/png": "[encoded data removed]",
      "text/plain": [
       "<Figure size 1440x720 with 1 Axes>"
      ]
     },
     "metadata": {
      "needs_background": "light"
     },
     "output_type": "display_data"
    }
   ],
   "source": [
    "fig,ax = plt.subplots()\n",
    "mask = house_data['Pris per kvadratmeter'] < 70000\n",
    "house_data_ = house_data.loc[mask].copy()\n",
    "house_data_ = house_data_.set_index('sale_date')\n",
    "\n",
    "house_data_.resample('7M').mean().plot(y = 'Pris per kvadratmeter',ax = ax,alpha=1)"
   ]
  },
  {
   "cell_type": "code",
   "execution_count": null,
   "metadata": {},
   "outputs": [],
   "source": []
  },
  {
   "cell_type": "code",
   "execution_count": null,
   "metadata": {},
   "outputs": [],
   "source": []
  }
 ],
 "metadata": {
  "kernelspec": {
   "display_name": "Python 3",
   "language": "python",
   "name": "python3"
  },
  "language_info": {
   "codemirror_mode": {
    "name": "ipython",
    "version": 3
   },
   "file_extension": ".py",
   "mimetype": "text/x-python",
   "name": "python",
   "nbconvert_exporter": "python",
   "pygments_lexer": "ipython3",
   "version": "3.6.5"
  }
 },
 "nbformat": 4,
 "nbformat_minor": 2
}
