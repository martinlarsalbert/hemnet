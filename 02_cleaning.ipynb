{
 "cells": [
  {
   "cell_type": "code",
   "execution_count": 1,
   "metadata": {},
   "outputs": [],
   "source": [
    "import pandas as pd\n",
    "import matplotlib.pyplot as plt\n",
    "from matplotlib.pylab import rcParams\n",
    "rcParams['figure.figsize'] = 20, 10\n",
    "import re"
   ]
  },
  {
   "cell_type": "code",
   "execution_count": 2,
   "metadata": {},
   "outputs": [],
   "source": [
    "house_data = pd.read_csv('house_data.csv',index_col = 0)"
   ]
  },
  {
   "cell_type": "code",
   "execution_count": 3,
   "metadata": {},
   "outputs": [
    {
     "data": {
      "text/html": [
       "<div>\n",
       "<style scoped>\n",
       "    .dataframe tbody tr th:only-of-type {\n",
       "        vertical-align: middle;\n",
       "    }\n",
       "\n",
       "    .dataframe tbody tr th {\n",
       "        vertical-align: top;\n",
       "    }\n",
       "\n",
       "    .dataframe thead th {\n",
       "        text-align: right;\n",
       "    }\n",
       "</style>\n",
       "<table border=\"1\" class=\"dataframe\">\n",
       "  <thead>\n",
       "    <tr style=\"text-align: right;\">\n",
       "      <th></th>\n",
       "      <th>Antal rum</th>\n",
       "      <th>Avgift/månad</th>\n",
       "      <th>Begärt pris</th>\n",
       "      <th>Boarea</th>\n",
       "      <th>Byggår</th>\n",
       "      <th>Driftskostnad</th>\n",
       "      <th>Förening</th>\n",
       "      <th>Pris per kvadratmeter</th>\n",
       "      <th>Prisutveckling</th>\n",
       "      <th>address</th>\n",
       "      <th>coordinate</th>\n",
       "      <th>id</th>\n",
       "      <th>map_url</th>\n",
       "      <th>price</th>\n",
       "      <th>sale_date</th>\n",
       "      <th>type</th>\n",
       "      <th>url</th>\n",
       "      <th>Biarea</th>\n",
       "      <th>Tomtarea</th>\n",
       "    </tr>\n",
       "  </thead>\n",
       "  <tbody>\n",
       "    <tr>\n",
       "      <th>938778</th>\n",
       "      <td>4 rum</td>\n",
       "      <td>5 604 kr/mån</td>\n",
       "      <td>2 475 000 kr</td>\n",
       "      <td>103 m2</td>\n",
       "      <td>2008</td>\n",
       "      <td>9 600 kr/år</td>\n",
       "      <td>\\n          Brf Höjdpunkten\\n</td>\n",
       "      <td>24 757 kr/m2</td>\n",
       "      <td>\\n\\n        +75 000 kr (+3 %)\\n</td>\n",
       "      <td>Björkhagegatan 6</td>\n",
       "      <td>[57.92291326887233, 12.502651264129536]</td>\n",
       "      <td>938778.0</td>\n",
       "      <td>https://maps.googleapis.com/maps/api/js?librar...</td>\n",
       "      <td>2550000.0</td>\n",
       "      <td>Såld 2019-01-28</td>\n",
       "      <td>bostadsratt</td>\n",
       "      <td>/salda/bostadsratt-4rum-stadsskogen-alingsas-k...</td>\n",
       "      <td>NaN</td>\n",
       "      <td>NaN</td>\n",
       "    </tr>\n",
       "    <tr>\n",
       "      <th>938744</th>\n",
       "      <td>7 rum</td>\n",
       "      <td>NaN</td>\n",
       "      <td>1 995 000 kr</td>\n",
       "      <td>175 m2</td>\n",
       "      <td>1958</td>\n",
       "      <td>52 400 kr/år</td>\n",
       "      <td>NaN</td>\n",
       "      <td>13 029 kr/m2</td>\n",
       "      <td>\\n\\n        +285 000 kr (+14 %)\\n</td>\n",
       "      <td>Ekebackevägen 1</td>\n",
       "      <td>[58.47241420896091, 11.669846459571746]</td>\n",
       "      <td>938744.0</td>\n",
       "      <td>https://maps.googleapis.com/maps/api/js?librar...</td>\n",
       "      <td>2280000.0</td>\n",
       "      <td>Såld 2019-01-28</td>\n",
       "      <td>villa</td>\n",
       "      <td>/salda/villa-7rum-lilla-foss-munkedals-kommun-...</td>\n",
       "      <td>145 m2</td>\n",
       "      <td>1 483 m2</td>\n",
       "    </tr>\n",
       "    <tr>\n",
       "      <th>938717</th>\n",
       "      <td>5 rum</td>\n",
       "      <td>NaN</td>\n",
       "      <td>3 495 000 kr</td>\n",
       "      <td>103 m2</td>\n",
       "      <td>1979</td>\n",
       "      <td>38 865 kr/år</td>\n",
       "      <td>NaN</td>\n",
       "      <td>32 330 kr/m2</td>\n",
       "      <td>\\n\\n        -165 000 kr (-5 %)\\n</td>\n",
       "      <td>Agnebäcksvägen 24</td>\n",
       "      <td>[57.69013704556706, 12.208904027993107]</td>\n",
       "      <td>938717.0</td>\n",
       "      <td>https://maps.googleapis.com/maps/api/js?librar...</td>\n",
       "      <td>3330000.0</td>\n",
       "      <td>Såld 2019-01-28</td>\n",
       "      <td>radhus</td>\n",
       "      <td>/salda/radhus-5rum-landvetter-harryda-kommun-a...</td>\n",
       "      <td>NaN</td>\n",
       "      <td>201 m2</td>\n",
       "    </tr>\n",
       "    <tr>\n",
       "      <th>938962</th>\n",
       "      <td>5 rum</td>\n",
       "      <td>NaN</td>\n",
       "      <td>2 275 000 kr</td>\n",
       "      <td>137 m2</td>\n",
       "      <td>1980</td>\n",
       "      <td>36 000 kr/år</td>\n",
       "      <td>NaN</td>\n",
       "      <td>16 606 kr/m2</td>\n",
       "      <td>\\n</td>\n",
       "      <td>Tvåöringsgränd 12</td>\n",
       "      <td>[58.377188776295206, 11.952471921867492]</td>\n",
       "      <td>938962.0</td>\n",
       "      <td>https://maps.googleapis.com/maps/api/js?librar...</td>\n",
       "      <td>2275000.0</td>\n",
       "      <td>Såld 2019-01-28</td>\n",
       "      <td>villa</td>\n",
       "      <td>/salda/villa-5rum-helenedal-uddevalla-kommun-t...</td>\n",
       "      <td>21 m2</td>\n",
       "      <td>346 m2</td>\n",
       "    </tr>\n",
       "    <tr>\n",
       "      <th>938923</th>\n",
       "      <td>3 rum</td>\n",
       "      <td>4 492 kr/mån</td>\n",
       "      <td>2 650 000 kr</td>\n",
       "      <td>70 m2</td>\n",
       "      <td>2016</td>\n",
       "      <td>NaN</td>\n",
       "      <td>\\n          BRF Lergöken\\n</td>\n",
       "      <td>40 000 kr/m2</td>\n",
       "      <td>\\n\\n        +150 000 kr (+6 %)\\n</td>\n",
       "      <td>Lergöksgatan 15</td>\n",
       "      <td>[57.65738875448929, 11.9003493296695]</td>\n",
       "      <td>938923.0</td>\n",
       "      <td>https://maps.googleapis.com/maps/api/js?librar...</td>\n",
       "      <td>2800000.0</td>\n",
       "      <td>Såld 2019-01-28</td>\n",
       "      <td>bostadsratt</td>\n",
       "      <td>/salda/bostadsratt-3rum-frolunda-goteborgs-kom...</td>\n",
       "      <td>NaN</td>\n",
       "      <td>NaN</td>\n",
       "    </tr>\n",
       "  </tbody>\n",
       "</table>\n",
       "</div>"
      ],
      "text/plain": [
       "       Antal rum   Avgift/månad   Begärt pris  Boarea Byggår  Driftskostnad  \\\n",
       "938778     4 rum  5 604 kr/mån  2 475 000 kr  103 m2   2008   9 600 kr/år   \n",
       "938744     7 rum            NaN  1 995 000 kr  175 m2   1958  52 400 kr/år   \n",
       "938717     5 rum            NaN  3 495 000 kr  103 m2   1979  38 865 kr/år   \n",
       "938962     5 rum            NaN  2 275 000 kr  137 m2   1980  36 000 kr/år   \n",
       "938923     3 rum  4 492 kr/mån  2 650 000 kr   70 m2   2016            NaN   \n",
       "\n",
       "                                      Förening Pris per kvadratmeter  \\\n",
       "938778  \\n          Brf Höjdpunkten\\n                  24 757 kr/m2   \n",
       "938744                                     NaN          13 029 kr/m2   \n",
       "938717                                     NaN          32 330 kr/m2   \n",
       "938962                                     NaN          16 606 kr/m2   \n",
       "938923     \\n          BRF Lergöken\\n                  40 000 kr/m2   \n",
       "\n",
       "                                 Prisutveckling            address  \\\n",
       "938778    \\n\\n        +75 000 kr (+3 %)\\n         Björkhagegatan 6   \n",
       "938744  \\n\\n        +285 000 kr (+14 %)\\n          Ekebackevägen 1   \n",
       "938717   \\n\\n        -165 000 kr (-5 %)\\n        Agnebäcksvägen 24   \n",
       "938962                                       \\n  Tvåöringsgränd 12   \n",
       "938923   \\n\\n        +150 000 kr (+6 %)\\n          Lergöksgatan 15   \n",
       "\n",
       "                                      coordinate        id  \\\n",
       "938778   [57.92291326887233, 12.502651264129536]  938778.0   \n",
       "938744   [58.47241420896091, 11.669846459571746]  938744.0   \n",
       "938717   [57.69013704556706, 12.208904027993107]  938717.0   \n",
       "938962  [58.377188776295206, 11.952471921867492]  938962.0   \n",
       "938923     [57.65738875448929, 11.9003493296695]  938923.0   \n",
       "\n",
       "                                                  map_url      price  \\\n",
       "938778  https://maps.googleapis.com/maps/api/js?librar...  2550000.0   \n",
       "938744  https://maps.googleapis.com/maps/api/js?librar...  2280000.0   \n",
       "938717  https://maps.googleapis.com/maps/api/js?librar...  3330000.0   \n",
       "938962  https://maps.googleapis.com/maps/api/js?librar...  2275000.0   \n",
       "938923  https://maps.googleapis.com/maps/api/js?librar...  2800000.0   \n",
       "\n",
       "              sale_date         type  \\\n",
       "938778  Såld 2019-01-28  bostadsratt   \n",
       "938744  Såld 2019-01-28        villa   \n",
       "938717  Såld 2019-01-28       radhus   \n",
       "938962  Såld 2019-01-28        villa   \n",
       "938923  Såld 2019-01-28  bostadsratt   \n",
       "\n",
       "                                                      url  Biarea  Tomtarea  \n",
       "938778  /salda/bostadsratt-4rum-stadsskogen-alingsas-k...     NaN       NaN  \n",
       "938744  /salda/villa-7rum-lilla-foss-munkedals-kommun-...  145 m2  1 483 m2  \n",
       "938717  /salda/radhus-5rum-landvetter-harryda-kommun-a...     NaN    201 m2  \n",
       "938962  /salda/villa-5rum-helenedal-uddevalla-kommun-t...   21 m2    346 m2  \n",
       "938923  /salda/bostadsratt-3rum-frolunda-goteborgs-kom...     NaN       NaN  "
      ]
     },
     "execution_count": 3,
     "metadata": {},
     "output_type": "execute_result"
    }
   ],
   "source": [
    "house_data.head()"
   ]
  },
  {
   "cell_type": "code",
   "execution_count": 4,
   "metadata": {},
   "outputs": [],
   "source": [
    "regexp = re.compile('(\\d+)')\n",
    "\n",
    "def find_numbers(text):\n",
    "\n",
    "    if pd.isnull(text):\n",
    "        return text\n",
    "    \n",
    "    try:\n",
    "        text_ = re.sub('m2','',text)\n",
    "    except:\n",
    "        return text\n",
    "    \n",
    "    try:\n",
    "        results = regexp.findall(text_)\n",
    "    except:\n",
    "        return text_\n",
    "    \n",
    "    price_str = ''\n",
    "    for result in results:\n",
    "        price_str+=result\n",
    "    \n",
    "    try:\n",
    "        price = float(price_str)\n",
    "    except:\n",
    "        price = None\n",
    "    \n",
    "    return price"
   ]
  },
  {
   "cell_type": "code",
   "execution_count": 5,
   "metadata": {},
   "outputs": [],
   "source": [
    "date_regexp = re.compile('(\\d\\d\\d\\d-\\d\\d-\\d\\d)')\n",
    "def find_date(date_string):\n",
    "    result = date_regexp.search(date_string)\n",
    "    return result.group(1)\n",
    "\n"
   ]
  },
  {
   "cell_type": "code",
   "execution_count": 6,
   "metadata": {},
   "outputs": [],
   "source": [
    "house_data['sale_date'] = pd.to_datetime(house_data['sale_date'].apply(func = find_date))\n",
    "\n"
   ]
  },
  {
   "cell_type": "code",
   "execution_count": 7,
   "metadata": {},
   "outputs": [],
   "source": [
    "col_names = ['Antal rum','Avgift/månad','Begärt pris','Boarea','Byggår','Driftskostnad','Pris per kvadratmeter','price','Tomtarea','Biarea']\n",
    "\n",
    "for col_name in col_names:\n",
    "    house_data[col_name] = house_data[col_name].apply(find_numbers)"
   ]
  },
  {
   "cell_type": "code",
   "execution_count": 8,
   "metadata": {},
   "outputs": [
    {
     "data": {
      "text/plain": [
       "<matplotlib.axes._subplots.AxesSubplot at 0x120944ac8>"
      ]
     },
     "execution_count": 8,
     "metadata": {},
     "output_type": "execute_result"
    },
    {
     "data": {
      "image/png": "[encoded data removed]",
      "text/plain": [
       "<Figure size 432x288 with 1 Axes>"
      ]
     },
     "metadata": {
      "needs_background": "light"
     },
     "output_type": "display_data"
    }
   ],
   "source": [
    "fig,ax = plt.subplots()\n",
    "house_data['price'].hist(bins = 20,ax = ax)"
   ]
  },
  {
   "cell_type": "code",
   "execution_count": 9,
   "metadata": {},
   "outputs": [
    {
     "data": {
      "text/plain": [
       "<matplotlib.axes._subplots.AxesSubplot at 0x12054b978>"
      ]
     },
     "execution_count": 9,
     "metadata": {},
     "output_type": "execute_result"
    },
    {
     "data": {
      "image/png": "[encoded data removed]",
      "text/plain": [
       "<Figure size 432x288 with 1 Axes>"
      ]
     },
     "metadata": {
      "needs_background": "light"
     },
     "output_type": "display_data"
    }
   ],
   "source": [
    "fig,ax = plt.subplots()\n",
    "house_data['Pris per kvadratmeter'].hist(bins = 100,ax = ax)"
   ]
  },
  {
   "cell_type": "code",
   "execution_count": 10,
   "metadata": {},
   "outputs": [
    {
     "data": {
      "text/plain": [
       "<matplotlib.axes._subplots.AxesSubplot at 0x106576710>"
      ]
     },
     "execution_count": 10,
     "metadata": {},
     "output_type": "execute_result"
    },
    {
     "data": {
      "image/png": "[encoded data removed]",
      "text/plain": [
       "<Figure size 432x288 with 1 Axes>"
      ]
     },
     "metadata": {
      "needs_background": "light"
     },
     "output_type": "display_data"
    }
   ],
   "source": [
    "fig,ax = plt.subplots()\n",
    "mask = house_data['Pris per kvadratmeter'] < 70000\n",
    "house_data_ = house_data.loc[mask].copy()\n",
    "house_data_ = house_data_.set_index('sale_date')\n",
    "\n",
    "house_data_.resample('7M').mean().plot(y = 'Pris per kvadratmeter',ax = ax,alpha=1)"
   ]
  },
  {
   "cell_type": "code",
   "execution_count": 18,
   "metadata": {},
   "outputs": [
    {
     "data": {
      "text/html": [
       "<div>\n",
       "<style scoped>\n",
       "    .dataframe tbody tr th:only-of-type {\n",
       "        vertical-align: middle;\n",
       "    }\n",
       "\n",
       "    .dataframe tbody tr th {\n",
       "        vertical-align: top;\n",
       "    }\n",
       "\n",
       "    .dataframe thead th {\n",
       "        text-align: right;\n",
       "    }\n",
       "</style>\n",
       "<table border=\"1\" class=\"dataframe\">\n",
       "  <thead>\n",
       "    <tr style=\"text-align: right;\">\n",
       "      <th></th>\n",
       "      <th>Antal rum</th>\n",
       "      <th>Begärt pris</th>\n",
       "      <th>Biarea</th>\n",
       "      <th>Boarea</th>\n",
       "      <th>Byggår</th>\n",
       "      <th>Driftskostnad</th>\n",
       "      <th>Pris per kvadratmeter</th>\n",
       "      <th>Prisutveckling</th>\n",
       "      <th>Tomtarea</th>\n",
       "      <th>address</th>\n",
       "      <th>coordinate</th>\n",
       "      <th>id</th>\n",
       "      <th>map_url</th>\n",
       "      <th>price</th>\n",
       "      <th>sale_date</th>\n",
       "      <th>type</th>\n",
       "      <th>url</th>\n",
       "      <th>Avgift/månad</th>\n",
       "      <th>Förening</th>\n",
       "    </tr>\n",
       "  </thead>\n",
       "  <tbody>\n",
       "    <tr>\n",
       "      <th>count</th>\n",
       "      <td>845</td>\n",
       "      <td>761</td>\n",
       "      <td>446</td>\n",
       "      <td>848</td>\n",
       "      <td>807</td>\n",
       "      <td>708</td>\n",
       "      <td>786</td>\n",
       "      <td>817</td>\n",
       "      <td>491</td>\n",
       "      <td>851</td>\n",
       "      <td>852</td>\n",
       "      <td>852</td>\n",
       "      <td>852</td>\n",
       "      <td>852</td>\n",
       "      <td>852</td>\n",
       "      <td>852</td>\n",
       "      <td>743</td>\n",
       "      <td>534</td>\n",
       "      <td>411</td>\n",
       "    </tr>\n",
       "    <tr>\n",
       "      <th>unique</th>\n",
       "      <td>17</td>\n",
       "      <td>418</td>\n",
       "      <td>268</td>\n",
       "      <td>307</td>\n",
       "      <td>193</td>\n",
       "      <td>527</td>\n",
       "      <td>742</td>\n",
       "      <td>575</td>\n",
       "      <td>444</td>\n",
       "      <td>828</td>\n",
       "      <td>835</td>\n",
       "      <td>689</td>\n",
       "      <td>128</td>\n",
       "      <td>362</td>\n",
       "      <td>25</td>\n",
       "      <td>155</td>\n",
       "      <td>730</td>\n",
       "      <td>472</td>\n",
       "      <td>369</td>\n",
       "    </tr>\n",
       "    <tr>\n",
       "      <th>top</th>\n",
       "      <td>2 rum</td>\n",
       "      <td>1 995 000 kr</td>\n",
       "      <td>Biarea</td>\n",
       "      <td>66 m2</td>\n",
       "      <td>1964</td>\n",
       "      <td>3 600 kr/år</td>\n",
       "      <td>Pris per kvadratmeter</td>\n",
       "      <td>\\n</td>\n",
       "      <td>\\n</td>\n",
       "      <td>address</td>\n",
       "      <td>coordinate</td>\n",
       "      <td>https://maps.googleapis.com/maps/api/js?librar...</td>\n",
       "      <td>https://maps.googleapis.com/maps/api/js?librar...</td>\n",
       "      <td>Såld 2019-01-23</td>\n",
       "      <td>bostadsratt</td>\n",
       "      <td>bostadsratt</td>\n",
       "      <td>url</td>\n",
       "      <td>Avgift/månad</td>\n",
       "      <td>Förening</td>\n",
       "    </tr>\n",
       "    <tr>\n",
       "      <th>freq</th>\n",
       "      <td>197</td>\n",
       "      <td>18</td>\n",
       "      <td>10</td>\n",
       "      <td>16</td>\n",
       "      <td>22</td>\n",
       "      <td>22</td>\n",
       "      <td>12</td>\n",
       "      <td>98</td>\n",
       "      <td>24</td>\n",
       "      <td>13</td>\n",
       "      <td>13</td>\n",
       "      <td>150</td>\n",
       "      <td>686</td>\n",
       "      <td>50</td>\n",
       "      <td>99</td>\n",
       "      <td>439</td>\n",
       "      <td>13</td>\n",
       "      <td>11</td>\n",
       "      <td>11</td>\n",
       "    </tr>\n",
       "  </tbody>\n",
       "</table>\n",
       "</div>"
      ],
      "text/plain": [
       "       Antal rum   Begärt pris  Biarea Boarea Byggår Driftskostnad  \\\n",
       "count        845           761     446    848    807           708   \n",
       "unique        17           418     268    307    193           527   \n",
       "top        2 rum  1 995 000 kr  Biarea  66 m2   1964  3 600 kr/år   \n",
       "freq         197            18      10     16     22            22   \n",
       "\n",
       "        Pris per kvadratmeter Prisutveckling Tomtarea  address  coordinate  \\\n",
       "count                     786            817      491      851         852   \n",
       "unique                    742            575      444      828         835   \n",
       "top     Pris per kvadratmeter             \\n       \\n  address  coordinate   \n",
       "freq                       12             98       24       13          13   \n",
       "\n",
       "                                                       id  \\\n",
       "count                                                 852   \n",
       "unique                                                689   \n",
       "top     https://maps.googleapis.com/maps/api/js?librar...   \n",
       "freq                                                  150   \n",
       "\n",
       "                                                  map_url            price  \\\n",
       "count                                                 852              852   \n",
       "unique                                                128              362   \n",
       "top     https://maps.googleapis.com/maps/api/js?librar...  Såld 2019-01-23   \n",
       "freq                                                  686               50   \n",
       "\n",
       "          sale_date         type  url  Avgift/månad  Förening  \n",
       "count           852          852  743           534       411  \n",
       "unique           25          155  730           472       369  \n",
       "top     bostadsratt  bostadsratt  url  Avgift/månad  Förening  \n",
       "freq             99          439   13            11        11  "
      ]
     },
     "execution_count": 18,
     "metadata": {},
     "output_type": "execute_result"
    }
   ],
   "source": [
    "df = pd.read_csv('all_house_data.csv')\n",
    "df.describe()"
   ]
  },
  {
   "cell_type": "code",
   "execution_count": null,
   "metadata": {},
   "outputs": [],
   "source": []
  },
  {
   "cell_type": "code",
   "execution_count": null,
   "metadata": {},
   "outputs": [],
   "source": []
  }
 ],
 "metadata": {
  "kernelspec": {
   "display_name": "Python 3",
   "language": "python",
   "name": "python3"
  },
  "language_info": {
   "codemirror_mode": {
    "name": "ipython",
    "version": 3
   },
   "file_extension": ".py",
   "mimetype": "text/x-python",
   "name": "python",
   "nbconvert_exporter": "python",
   "pygments_lexer": "ipython3",
   "version": "3.6.5"
  }
 },
 "nbformat": 4,
 "nbformat_minor": 2
}
