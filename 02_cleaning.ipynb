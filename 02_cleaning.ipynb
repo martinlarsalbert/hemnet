{
 "cells": [
  {
   "cell_type": "code",
   "execution_count": 78,
   "metadata": {},
   "outputs": [],
   "source": [
    "import pandas as pd\n",
    "import matplotlib.pyplot as plt\n",
    "from matplotlib.pylab import rcParams\n",
    "rcParams['figure.figsize'] = 20, 10\n",
    "import re\n",
    "import os"
   ]
  },
  {
   "cell_type": "code",
   "execution_count": 79,
   "metadata": {},
   "outputs": [],
   "source": [
    "file_path = 'all_house_data.csv'\n",
    "\n",
    "#house_data = pd.read_csv('house_data.csv',index_col = 0)\n",
    "house_data = pd.read_csv(file_path)"
   ]
  },
  {
   "cell_type": "code",
   "execution_count": 80,
   "metadata": {},
   "outputs": [
    {
     "data": {
      "text/html": [
       "<div>\n",
       "<style scoped>\n",
       "    .dataframe tbody tr th:only-of-type {\n",
       "        vertical-align: middle;\n",
       "    }\n",
       "\n",
       "    .dataframe tbody tr th {\n",
       "        vertical-align: top;\n",
       "    }\n",
       "\n",
       "    .dataframe thead th {\n",
       "        text-align: right;\n",
       "    }\n",
       "</style>\n",
       "<table border=\"1\" class=\"dataframe\">\n",
       "  <thead>\n",
       "    <tr style=\"text-align: right;\">\n",
       "      <th></th>\n",
       "      <th>Antal rum</th>\n",
       "      <th>Begärt pris</th>\n",
       "      <th>Biarea</th>\n",
       "      <th>Boarea</th>\n",
       "      <th>Byggår</th>\n",
       "      <th>Driftskostnad</th>\n",
       "      <th>Pris per kvadratmeter</th>\n",
       "      <th>Prisutveckling</th>\n",
       "      <th>Tomtarea</th>\n",
       "      <th>address</th>\n",
       "      <th>coordinate</th>\n",
       "      <th>id</th>\n",
       "      <th>map_url</th>\n",
       "      <th>price</th>\n",
       "      <th>sale_date</th>\n",
       "      <th>type</th>\n",
       "      <th>url</th>\n",
       "      <th>Avgift/månad</th>\n",
       "      <th>Förening</th>\n",
       "    </tr>\n",
       "  </thead>\n",
       "  <tbody>\n",
       "    <tr>\n",
       "      <th>count</th>\n",
       "      <td>43183</td>\n",
       "      <td>33939</td>\n",
       "      <td>35995</td>\n",
       "      <td>42690</td>\n",
       "      <td>39118</td>\n",
       "      <td>35051</td>\n",
       "      <td>36897</td>\n",
       "      <td>39635</td>\n",
       "      <td>37919</td>\n",
       "      <td>43489</td>\n",
       "      <td>43491</td>\n",
       "      <td>43475</td>\n",
       "      <td>43440</td>\n",
       "      <td>43411</td>\n",
       "      <td>43344</td>\n",
       "      <td>42661</td>\n",
       "      <td>35576</td>\n",
       "      <td>19786</td>\n",
       "      <td>16804</td>\n",
       "    </tr>\n",
       "    <tr>\n",
       "      <th>unique</th>\n",
       "      <td>275</td>\n",
       "      <td>5861</td>\n",
       "      <td>1930</td>\n",
       "      <td>1921</td>\n",
       "      <td>5525</td>\n",
       "      <td>17401</td>\n",
       "      <td>19399</td>\n",
       "      <td>18411</td>\n",
       "      <td>22873</td>\n",
       "      <td>36223</td>\n",
       "      <td>38035</td>\n",
       "      <td>24067</td>\n",
       "      <td>1784</td>\n",
       "      <td>2549</td>\n",
       "      <td>3410</td>\n",
       "      <td>17629</td>\n",
       "      <td>28865</td>\n",
       "      <td>8685</td>\n",
       "      <td>6643</td>\n",
       "    </tr>\n",
       "    <tr>\n",
       "      <th>top</th>\n",
       "      <td>2 rum</td>\n",
       "      <td>Avgift/månad</td>\n",
       "      <td>Begärt pris</td>\n",
       "      <td>Boarea</td>\n",
       "      <td>1968</td>\n",
       "      <td>3 600 kr/år</td>\n",
       "      <td>\\n</td>\n",
       "      <td>\\n</td>\n",
       "      <td>\\n</td>\n",
       "      <td>address</td>\n",
       "      <td>https://maps.googleapis.com/maps/api/js?librar...</td>\n",
       "      <td>https://maps.googleapis.com/maps/api/js?librar...</td>\n",
       "      <td>https://maps.googleapis.com/maps/api/js?librar...</td>\n",
       "      <td>bostadsratt</td>\n",
       "      <td>bostadsratt</td>\n",
       "      <td>bostadsratt</td>\n",
       "      <td>url</td>\n",
       "      <td>Biarea</td>\n",
       "      <td>Tomtarea</td>\n",
       "    </tr>\n",
       "    <tr>\n",
       "      <th>freq</th>\n",
       "      <td>10422</td>\n",
       "      <td>542</td>\n",
       "      <td>540</td>\n",
       "      <td>737</td>\n",
       "      <td>763</td>\n",
       "      <td>828</td>\n",
       "      <td>1029</td>\n",
       "      <td>2899</td>\n",
       "      <td>2001</td>\n",
       "      <td>470</td>\n",
       "      <td>2250</td>\n",
       "      <td>16563</td>\n",
       "      <td>23026</td>\n",
       "      <td>1395</td>\n",
       "      <td>10381</td>\n",
       "      <td>14332</td>\n",
       "      <td>470</td>\n",
       "      <td>309</td>\n",
       "      <td>362</td>\n",
       "    </tr>\n",
       "  </tbody>\n",
       "</table>\n",
       "</div>"
      ],
      "text/plain": [
       "       Antal rum   Begärt pris       Biarea  Boarea Byggår Driftskostnad  \\\n",
       "count      43183         33939        35995   42690  39118         35051   \n",
       "unique       275          5861         1930    1921   5525         17401   \n",
       "top        2 rum  Avgift/månad  Begärt pris  Boarea   1968  3 600 kr/år   \n",
       "freq       10422           542          540     737    763           828   \n",
       "\n",
       "       Pris per kvadratmeter Prisutveckling Tomtarea  address  \\\n",
       "count                  36897          39635    37919    43489   \n",
       "unique                 19399          18411    22873    36223   \n",
       "top                       \\n             \\n       \\n  address   \n",
       "freq                    1029           2899     2001      470   \n",
       "\n",
       "                                               coordinate  \\\n",
       "count                                               43491   \n",
       "unique                                              38035   \n",
       "top     https://maps.googleapis.com/maps/api/js?librar...   \n",
       "freq                                                 2250   \n",
       "\n",
       "                                                       id  \\\n",
       "count                                               43475   \n",
       "unique                                              24067   \n",
       "top     https://maps.googleapis.com/maps/api/js?librar...   \n",
       "freq                                                16563   \n",
       "\n",
       "                                                  map_url        price  \\\n",
       "count                                               43440        43411   \n",
       "unique                                               1784         2549   \n",
       "top     https://maps.googleapis.com/maps/api/js?librar...  bostadsratt   \n",
       "freq                                                23026         1395   \n",
       "\n",
       "          sale_date         type    url Avgift/månad  Förening  \n",
       "count         43344        42661  35576        19786     16804  \n",
       "unique         3410        17629  28865         8685      6643  \n",
       "top     bostadsratt  bostadsratt    url       Biarea  Tomtarea  \n",
       "freq          10381        14332    470          309       362  "
      ]
     },
     "execution_count": 80,
     "metadata": {},
     "output_type": "execute_result"
    }
   ],
   "source": [
    "house_data.describe()"
   ]
  },
  {
   "cell_type": "code",
   "execution_count": 4,
   "metadata": {},
   "outputs": [],
   "source": [
    "regexp = re.compile('(\\d+)')\n",
    "\n",
    "def find_numbers(text):\n",
    "\n",
    "    if pd.isnull(text):\n",
    "        return text\n",
    "    \n",
    "    try:\n",
    "        text_ = re.sub('m2','',text)\n",
    "    except:\n",
    "        return text\n",
    "    \n",
    "    try:\n",
    "        results = regexp.findall(text_)\n",
    "    except:\n",
    "        return text_\n",
    "    \n",
    "    price_str = ''\n",
    "    for result in results:\n",
    "        price_str+=result\n",
    "    \n",
    "    try:\n",
    "        price = float(price_str)\n",
    "    except:\n",
    "        price = None\n",
    "    \n",
    "    return price"
   ]
  },
  {
   "cell_type": "code",
   "execution_count": 5,
   "metadata": {},
   "outputs": [],
   "source": [
    "date_regexp = re.compile('(\\d\\d\\d\\d-\\d\\d-\\d\\d)')\n",
    "def find_date(date_string):\n",
    "    if date_string is None:\n",
    "        return None\n",
    "    else:\n",
    "        result = date_regexp.search(date_string)\n",
    "        if result:\n",
    "            return result.group(1)\n",
    "        else:\n",
    "            return None\n"
   ]
  },
  {
   "cell_type": "code",
   "execution_count": 6,
   "metadata": {},
   "outputs": [],
   "source": [
    "col_names = ['Antal rum','Avgift/månad','Begärt pris','Boarea','Byggår','Driftskostnad','Pris per kvadratmeter','price','Tomtarea','Biarea']\n",
    "\n",
    "for col_name in col_names:\n",
    "    house_data[col_name] = house_data[col_name].apply(find_numbers)"
   ]
  },
  {
   "cell_type": "code",
   "execution_count": 7,
   "metadata": {},
   "outputs": [],
   "source": [
    "mask = house_data['sale_date'].notnull()\n",
    "house_data = house_data.loc[mask]"
   ]
  },
  {
   "cell_type": "code",
   "execution_count": 8,
   "metadata": {},
   "outputs": [],
   "source": [
    "house_data['sale_date'] = pd.to_datetime(house_data['sale_date'].apply(func = find_date))\n",
    "\n"
   ]
  },
  {
   "cell_type": "code",
   "execution_count": null,
   "metadata": {},
   "outputs": [],
   "source": [
    "fig,ax = plt.subplots()\n",
    "house_data['price'].hist(bins = 40,ax = ax)"
   ]
  },
  {
   "cell_type": "code",
   "execution_count": 69,
   "metadata": {},
   "outputs": [],
   "source": [
    "price_max = house_data['price'].quantile(0.90)\n",
    "price_min = house_data['price'].quantile(0.1)\n",
    "\n",
    "price_m2_max = house_data['Pris per kvadratmeter'].quantile(0.78)\n",
    "price_m2_min = house_data['Pris per kvadratmeter'].quantile(0.09)\n",
    "\n",
    "\n",
    "mask = ((house_data['price'] > price_min) & (house_data['price'] < price_max) &\n",
    "       (house_data['Pris per kvadratmeter'] > price_m2_min) & (house_data['Pris per kvadratmeter'] < price_m2_max)\n",
    "       )\n",
    "house_data_clean = house_data.loc[mask].copy()"
   ]
  },
  {
   "cell_type": "code",
   "execution_count": 70,
   "metadata": {},
   "outputs": [
    {
     "data": {
      "text/plain": [
       "<matplotlib.axes._subplots.AxesSubplot at 0x1258450b8>"
      ]
     },
     "execution_count": 70,
     "metadata": {},
     "output_type": "execute_result"
    },
    {
     "data": {
      "image/png": "[encoded data removed]",
      "text/plain": [
       "<Figure size 432x288 with 1 Axes>"
      ]
     },
     "metadata": {
      "needs_background": "light"
     },
     "output_type": "display_data"
    }
   ],
   "source": [
    "fig,ax = plt.subplots()\n",
    "house_data_clean['price'].hist(bins = 40,ax = ax)"
   ]
  },
  {
   "cell_type": "code",
   "execution_count": 71,
   "metadata": {},
   "outputs": [
    {
     "data": {
      "text/plain": [
       "<matplotlib.axes._subplots.AxesSubplot at 0x125fc3320>"
      ]
     },
     "execution_count": 71,
     "metadata": {},
     "output_type": "execute_result"
    },
    {
     "data": {
      "image/png": "[encoded data removed]",
      "text/plain": [
       "<Figure size 432x288 with 1 Axes>"
      ]
     },
     "metadata": {
      "needs_background": "light"
     },
     "output_type": "display_data"
    }
   ],
   "source": [
    "fig,ax = plt.subplots()\n",
    "house_data_clean['Pris per kvadratmeter'].hist(bins = 100,ax = ax)"
   ]
  },
  {
   "cell_type": "code",
   "execution_count": 72,
   "metadata": {},
   "outputs": [
    {
     "data": {
      "text/plain": [
       "<matplotlib.axes._subplots.AxesSubplot at 0x1269e9278>"
      ]
     },
     "execution_count": 72,
     "metadata": {},
     "output_type": "execute_result"
    },
    {
     "data": {
      "image/png": "[encoded data removed]",
      "text/plain": [
       "<Figure size 432x288 with 1 Axes>"
      ]
     },
     "metadata": {
      "needs_background": "light"
     },
     "output_type": "display_data"
    }
   ],
   "source": [
    "fig,ax = plt.subplots()\n",
    "#mask = house_data['Pris per kvadratmeter'] < 70000\n",
    "house_data_ = house_data_clean.set_index('sale_date')\n",
    "\n",
    "house_data_.resample('7M').median().plot(y = 'Pris per kvadratmeter',ax = ax,alpha=1)"
   ]
  },
  {
   "cell_type": "code",
   "execution_count": 73,
   "metadata": {},
   "outputs": [],
   "source": [
    "regexp_coordinates = re.compile('\\[(.*)\\,(.*)\\]')\n",
    "def get_lat_lon(coordinate_string):\n",
    "\n",
    "    result = regexp_coordinates.search(coordinate_string)\n",
    "    if not result:\n",
    "        lat = None\n",
    "        lon = None\n",
    "    else:\n",
    "        lat = float(result.group(1))\n",
    "        lon = float(result.group(2))\n",
    "\n",
    "    s = pd.Series()\n",
    "    s['lat'] = lat\n",
    "    s['lon'] = lon\n",
    "\n",
    "    return s"
   ]
  },
  {
   "cell_type": "code",
   "execution_count": 74,
   "metadata": {},
   "outputs": [],
   "source": [
    "coordinates = house_data_clean['coordinate'].apply(func = get_lat_lon)\n",
    "house_data_clean = pd.concat((house_data_clean,coordinates),axis = 1)"
   ]
  },
  {
   "cell_type": "code",
   "execution_count": 75,
   "metadata": {},
   "outputs": [],
   "source": [
    "mask = (house_data_clean['lat'].notnull() & house_data_clean['lon'].notnull())\n",
    "house_data_clean = house_data_clean.loc[mask]"
   ]
  },
  {
   "cell_type": "code",
   "execution_count": 76,
   "metadata": {},
   "outputs": [],
   "source": [
    "name,ext = os.path.splitext(file_path)\n",
    "new_name = '%s_clean%s' % (name,ext)"
   ]
  },
  {
   "cell_type": "code",
   "execution_count": 77,
   "metadata": {},
   "outputs": [],
   "source": [
    "house_data_clean.to_csv(new_name,index = False)"
   ]
  },
  {
   "cell_type": "code",
   "execution_count": null,
   "metadata": {},
   "outputs": [],
   "source": []
  },
  {
   "cell_type": "code",
   "execution_count": null,
   "metadata": {},
   "outputs": [],
   "source": []
  },
  {
   "cell_type": "code",
   "execution_count": null,
   "metadata": {},
   "outputs": [],
   "source": []
  },
  {
   "cell_type": "code",
   "execution_count": null,
   "metadata": {},
   "outputs": [],
   "source": []
  },
  {
   "cell_type": "code",
   "execution_count": null,
   "metadata": {},
   "outputs": [],
   "source": []
  },
  {
   "cell_type": "code",
   "execution_count": null,
   "metadata": {},
   "outputs": [],
   "source": []
  }
 ],
 "metadata": {
  "kernelspec": {
   "display_name": "Python 3",
   "language": "python",
   "name": "python3"
  },
  "language_info": {
   "codemirror_mode": {
    "name": "ipython",
    "version": 3
   },
   "file_extension": ".py",
   "mimetype": "text/x-python",
   "name": "python",
   "nbconvert_exporter": "python",
   "pygments_lexer": "ipython3",
   "version": "3.6.5"
  }
 },
 "nbformat": 4,
 "nbformat_minor": 2
}
