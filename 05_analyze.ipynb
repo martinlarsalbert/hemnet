{
 "cells": [
  {
   "cell_type": "code",
   "execution_count": 71,
   "metadata": {},
   "outputs": [],
   "source": [
    "import pandas as pd\n",
    "import matplotlib.pyplot as plt\n",
    "from matplotlib.pylab import rcParams\n",
    "rcParams['figure.figsize'] = 20, 10\n",
    "import re\n",
    "import os"
   ]
  },
  {
   "cell_type": "code",
   "execution_count": 2,
   "metadata": {},
   "outputs": [],
   "source": [
    "house_data = pd.read_csv('all_house_data_clean_no_coordinates.csv')"
   ]
  },
  {
   "cell_type": "code",
   "execution_count": 3,
   "metadata": {},
   "outputs": [
    {
     "data": {
      "text/html": [
       "<div>\n",
       "<style scoped>\n",
       "    .dataframe tbody tr th:only-of-type {\n",
       "        vertical-align: middle;\n",
       "    }\n",
       "\n",
       "    .dataframe tbody tr th {\n",
       "        vertical-align: top;\n",
       "    }\n",
       "\n",
       "    .dataframe thead th {\n",
       "        text-align: right;\n",
       "    }\n",
       "</style>\n",
       "<table border=\"1\" class=\"dataframe\">\n",
       "  <thead>\n",
       "    <tr style=\"text-align: right;\">\n",
       "      <th></th>\n",
       "      <th>Antal rum</th>\n",
       "      <th>Begärt pris</th>\n",
       "      <th>Biarea</th>\n",
       "      <th>Boarea</th>\n",
       "      <th>Byggår</th>\n",
       "      <th>Driftskostnad</th>\n",
       "      <th>Pris per kvadratmeter</th>\n",
       "      <th>Prisutveckling</th>\n",
       "      <th>Tomtarea</th>\n",
       "      <th>id</th>\n",
       "      <th>price</th>\n",
       "      <th>Avgift/månad</th>\n",
       "    </tr>\n",
       "  </thead>\n",
       "  <tbody>\n",
       "    <tr>\n",
       "      <th>count</th>\n",
       "      <td>8825.000000</td>\n",
       "      <td>8.825000e+03</td>\n",
       "      <td>8.825000e+03</td>\n",
       "      <td>8825.000000</td>\n",
       "      <td>8.825000e+03</td>\n",
       "      <td>8825.000000</td>\n",
       "      <td>8825.000000</td>\n",
       "      <td>8.825000e+03</td>\n",
       "      <td>8825.000000</td>\n",
       "      <td>8825.000000</td>\n",
       "      <td>8.825000e+03</td>\n",
       "      <td>8825.000000</td>\n",
       "    </tr>\n",
       "    <tr>\n",
       "      <th>mean</th>\n",
       "      <td>3.452918</td>\n",
       "      <td>2.280384e+06</td>\n",
       "      <td>1.442855e+04</td>\n",
       "      <td>88.076487</td>\n",
       "      <td>6.640818e+07</td>\n",
       "      <td>13364.953541</td>\n",
       "      <td>30731.441473</td>\n",
       "      <td>1.669312e+05</td>\n",
       "      <td>650.150878</td>\n",
       "      <td>767141.203626</td>\n",
       "      <td>2.493654e+06</td>\n",
       "      <td>2430.452329</td>\n",
       "    </tr>\n",
       "    <tr>\n",
       "      <th>std</th>\n",
       "      <td>1.703441</td>\n",
       "      <td>1.502632e+06</td>\n",
       "      <td>2.312300e+05</td>\n",
       "      <td>40.582852</td>\n",
       "      <td>3.592868e+09</td>\n",
       "      <td>14439.199592</td>\n",
       "      <td>17301.263787</td>\n",
       "      <td>2.440966e+05</td>\n",
       "      <td>3620.898376</td>\n",
       "      <td>115576.648664</td>\n",
       "      <td>1.552425e+06</td>\n",
       "      <td>2121.961437</td>\n",
       "    </tr>\n",
       "    <tr>\n",
       "      <th>min</th>\n",
       "      <td>0.000000</td>\n",
       "      <td>0.000000e+00</td>\n",
       "      <td>0.000000e+00</td>\n",
       "      <td>17.500000</td>\n",
       "      <td>0.000000e+00</td>\n",
       "      <td>0.000000</td>\n",
       "      <td>1558.000000</td>\n",
       "      <td>-4.350000e+06</td>\n",
       "      <td>0.000000</td>\n",
       "      <td>467203.000000</td>\n",
       "      <td>7.250000e+04</td>\n",
       "      <td>0.000000</td>\n",
       "    </tr>\n",
       "    <tr>\n",
       "      <th>25%</th>\n",
       "      <td>2.000000</td>\n",
       "      <td>1.245000e+06</td>\n",
       "      <td>0.000000e+00</td>\n",
       "      <td>58.500000</td>\n",
       "      <td>1.937000e+03</td>\n",
       "      <td>3000.000000</td>\n",
       "      <td>16667.000000</td>\n",
       "      <td>0.000000e+00</td>\n",
       "      <td>0.000000</td>\n",
       "      <td>680051.000000</td>\n",
       "      <td>1.450000e+06</td>\n",
       "      <td>0.000000</td>\n",
       "    </tr>\n",
       "    <tr>\n",
       "      <th>50%</th>\n",
       "      <td>3.000000</td>\n",
       "      <td>1.995000e+06</td>\n",
       "      <td>0.000000e+00</td>\n",
       "      <td>78.000000</td>\n",
       "      <td>1.962000e+03</td>\n",
       "      <td>5280.000000</td>\n",
       "      <td>28788.000000</td>\n",
       "      <td>1.150000e+05</td>\n",
       "      <td>0.000000</td>\n",
       "      <td>772478.000000</td>\n",
       "      <td>2.280000e+06</td>\n",
       "      <td>2856.000000</td>\n",
       "    </tr>\n",
       "    <tr>\n",
       "      <th>75%</th>\n",
       "      <td>5.000000</td>\n",
       "      <td>2.990000e+06</td>\n",
       "      <td>8.000000e+00</td>\n",
       "      <td>111.000000</td>\n",
       "      <td>1.980000e+03</td>\n",
       "      <td>26500.000000</td>\n",
       "      <td>42945.000000</td>\n",
       "      <td>3.050000e+05</td>\n",
       "      <td>698.000000</td>\n",
       "      <td>857225.000000</td>\n",
       "      <td>3.250000e+06</td>\n",
       "      <td>4115.000000</td>\n",
       "    </tr>\n",
       "    <tr>\n",
       "      <th>max</th>\n",
       "      <td>13.000000</td>\n",
       "      <td>1.997500e+07</td>\n",
       "      <td>7.650000e+06</td>\n",
       "      <td>424.000000</td>\n",
       "      <td>1.959198e+11</td>\n",
       "      <td>75800.000000</td>\n",
       "      <td>88235.000000</td>\n",
       "      <td>9.750000e+05</td>\n",
       "      <td>186355.000000</td>\n",
       "      <td>944890.000000</td>\n",
       "      <td>1.997500e+07</td>\n",
       "      <td>9174.000000</td>\n",
       "    </tr>\n",
       "  </tbody>\n",
       "</table>\n",
       "</div>"
      ],
      "text/plain": [
       "         Antal rum   Begärt pris        Biarea       Boarea        Byggår  \\\n",
       "count  8825.000000  8.825000e+03  8.825000e+03  8825.000000  8.825000e+03   \n",
       "mean      3.452918  2.280384e+06  1.442855e+04    88.076487  6.640818e+07   \n",
       "std       1.703441  1.502632e+06  2.312300e+05    40.582852  3.592868e+09   \n",
       "min       0.000000  0.000000e+00  0.000000e+00    17.500000  0.000000e+00   \n",
       "25%       2.000000  1.245000e+06  0.000000e+00    58.500000  1.937000e+03   \n",
       "50%       3.000000  1.995000e+06  0.000000e+00    78.000000  1.962000e+03   \n",
       "75%       5.000000  2.990000e+06  8.000000e+00   111.000000  1.980000e+03   \n",
       "max      13.000000  1.997500e+07  7.650000e+06   424.000000  1.959198e+11   \n",
       "\n",
       "       Driftskostnad  Pris per kvadratmeter  Prisutveckling       Tomtarea  \\\n",
       "count    8825.000000            8825.000000    8.825000e+03    8825.000000   \n",
       "mean    13364.953541           30731.441473    1.669312e+05     650.150878   \n",
       "std     14439.199592           17301.263787    2.440966e+05    3620.898376   \n",
       "min         0.000000            1558.000000   -4.350000e+06       0.000000   \n",
       "25%      3000.000000           16667.000000    0.000000e+00       0.000000   \n",
       "50%      5280.000000           28788.000000    1.150000e+05       0.000000   \n",
       "75%     26500.000000           42945.000000    3.050000e+05     698.000000   \n",
       "max     75800.000000           88235.000000    9.750000e+05  186355.000000   \n",
       "\n",
       "                  id         price  Avgift/månad  \n",
       "count    8825.000000  8.825000e+03   8825.000000  \n",
       "mean   767141.203626  2.493654e+06   2430.452329  \n",
       "std    115576.648664  1.552425e+06   2121.961437  \n",
       "min    467203.000000  7.250000e+04      0.000000  \n",
       "25%    680051.000000  1.450000e+06      0.000000  \n",
       "50%    772478.000000  2.280000e+06   2856.000000  \n",
       "75%    857225.000000  3.250000e+06   4115.000000  \n",
       "max    944890.000000  1.997500e+07   9174.000000  "
      ]
     },
     "execution_count": 3,
     "metadata": {},
     "output_type": "execute_result"
    }
   ],
   "source": [
    "house_data.describe()"
   ]
  },
  {
   "cell_type": "code",
   "execution_count": 4,
   "metadata": {},
   "outputs": [
    {
     "data": {
      "text/plain": [
       "Antal rum                float64\n",
       "Begärt pris              float64\n",
       "Biarea                   float64\n",
       "Boarea                   float64\n",
       "Byggår                   float64\n",
       "Driftskostnad            float64\n",
       "Pris per kvadratmeter    float64\n",
       "Prisutveckling           float64\n",
       "Tomtarea                 float64\n",
       "address                   object\n",
       "coordinate                object\n",
       "id                       float64\n",
       "map_url                   object\n",
       "price                    float64\n",
       "sale_date                 object\n",
       "type                      object\n",
       "url                       object\n",
       "Avgift/månad             float64\n",
       "Förening                  object\n",
       "dtype: object"
      ]
     },
     "execution_count": 4,
     "metadata": {},
     "output_type": "execute_result"
    }
   ],
   "source": [
    "house_data.dtypes"
   ]
  },
  {
   "cell_type": "code",
   "execution_count": 5,
   "metadata": {},
   "outputs": [
    {
     "data": {
      "text/html": [
       "<div>\n",
       "<style scoped>\n",
       "    .dataframe tbody tr th:only-of-type {\n",
       "        vertical-align: middle;\n",
       "    }\n",
       "\n",
       "    .dataframe tbody tr th {\n",
       "        vertical-align: top;\n",
       "    }\n",
       "\n",
       "    .dataframe thead th {\n",
       "        text-align: right;\n",
       "    }\n",
       "</style>\n",
       "<table border=\"1\" class=\"dataframe\">\n",
       "  <thead>\n",
       "    <tr style=\"text-align: right;\">\n",
       "      <th></th>\n",
       "      <th>Antal rum</th>\n",
       "      <th>Begärt pris</th>\n",
       "      <th>Biarea</th>\n",
       "      <th>Boarea</th>\n",
       "      <th>Byggår</th>\n",
       "      <th>Driftskostnad</th>\n",
       "      <th>Pris per kvadratmeter</th>\n",
       "      <th>Prisutveckling</th>\n",
       "      <th>Tomtarea</th>\n",
       "      <th>address</th>\n",
       "      <th>coordinate</th>\n",
       "      <th>id</th>\n",
       "      <th>map_url</th>\n",
       "      <th>price</th>\n",
       "      <th>sale_date</th>\n",
       "      <th>type</th>\n",
       "      <th>url</th>\n",
       "      <th>Avgift/månad</th>\n",
       "      <th>Förening</th>\n",
       "    </tr>\n",
       "  </thead>\n",
       "  <tbody>\n",
       "    <tr>\n",
       "      <th>0</th>\n",
       "      <td>5.0</td>\n",
       "      <td>1395000.0</td>\n",
       "      <td>20.0</td>\n",
       "      <td>168.0</td>\n",
       "      <td>1920.0</td>\n",
       "      <td>21518.0</td>\n",
       "      <td>9018.0</td>\n",
       "      <td>120000.0</td>\n",
       "      <td>707.0</td>\n",
       "      <td>Dalviksgatan 6</td>\n",
       "      <td>[58.41833602158281. 14.173516000689672]</td>\n",
       "      <td>944890.0</td>\n",
       "      <td>https:maps.googleapis.commapsapijs?libraries=g...</td>\n",
       "      <td>1515000.0</td>\n",
       "      <td>2019-02-10</td>\n",
       "      <td>villa</td>\n",
       "      <td>saldavilla-5-tibro-tibro-kommun-dalviksgatan-6...</td>\n",
       "      <td>0.0</td>\n",
       "      <td>0</td>\n",
       "    </tr>\n",
       "    <tr>\n",
       "      <th>1</th>\n",
       "      <td>10.0</td>\n",
       "      <td>1295000.0</td>\n",
       "      <td>170.0</td>\n",
       "      <td>175.0</td>\n",
       "      <td>1912.0</td>\n",
       "      <td>57949.0</td>\n",
       "      <td>5714.0</td>\n",
       "      <td>-295000.0</td>\n",
       "      <td>1742.0</td>\n",
       "      <td>Mellbyvägen 138</td>\n",
       "      <td>[58.1423480849156. 12.581077812236193]</td>\n",
       "      <td>944821.0</td>\n",
       "      <td>https:maps.googleapis.commapsapijs?libraries=g...</td>\n",
       "      <td>1000000.0</td>\n",
       "      <td>2019-02-09</td>\n",
       "      <td>villa</td>\n",
       "      <td>saldavilla-10-stora-mellby-alingsas-kommun-mel...</td>\n",
       "      <td>0.0</td>\n",
       "      <td>0</td>\n",
       "    </tr>\n",
       "    <tr>\n",
       "      <th>2</th>\n",
       "      <td>4.0</td>\n",
       "      <td>1595000.0</td>\n",
       "      <td>32.0</td>\n",
       "      <td>124.0</td>\n",
       "      <td>1985.0</td>\n",
       "      <td>29252.0</td>\n",
       "      <td>14516.0</td>\n",
       "      <td>205000.0</td>\n",
       "      <td>776.0</td>\n",
       "      <td>Åvägen 5</td>\n",
       "      <td>[57.59336826715258. 12.875525104278504]</td>\n",
       "      <td>944820.0</td>\n",
       "      <td>https:maps.googleapis.commapsapijs?libraries=g...</td>\n",
       "      <td>1800000.0</td>\n",
       "      <td>2019-02-09</td>\n",
       "      <td>villa</td>\n",
       "      <td>saldavilla-4-kinnama-boras-kommun-avagen-5-944820</td>\n",
       "      <td>0.0</td>\n",
       "      <td>0</td>\n",
       "    </tr>\n",
       "    <tr>\n",
       "      <th>3</th>\n",
       "      <td>4.0</td>\n",
       "      <td>4300000.0</td>\n",
       "      <td>28.0</td>\n",
       "      <td>113.0</td>\n",
       "      <td>1983.0</td>\n",
       "      <td>23960.0</td>\n",
       "      <td>41593.0</td>\n",
       "      <td>400000.0</td>\n",
       "      <td>428.5</td>\n",
       "      <td>Gamla Tingstadsgatan 34A</td>\n",
       "      <td>[57.729935889695675. 11.975547588656331]</td>\n",
       "      <td>944836.0</td>\n",
       "      <td>https:maps.googleapis.commapsapijs?libraries=g...</td>\n",
       "      <td>4700000.0</td>\n",
       "      <td>2019-02-09</td>\n",
       "      <td>radhus</td>\n",
       "      <td>saldaradhus-4-brunnsbo-goteborgs-kommun-gamla-...</td>\n",
       "      <td>0.0</td>\n",
       "      <td>0</td>\n",
       "    </tr>\n",
       "    <tr>\n",
       "      <th>4</th>\n",
       "      <td>3.0</td>\n",
       "      <td>1075000.0</td>\n",
       "      <td>0.0</td>\n",
       "      <td>74.5</td>\n",
       "      <td>0.0</td>\n",
       "      <td>4308.0</td>\n",
       "      <td>14430.0</td>\n",
       "      <td>0.0</td>\n",
       "      <td>0.0</td>\n",
       "      <td>Nygatan 20A</td>\n",
       "      <td>[58.38360603922884. 12.325171522845999]</td>\n",
       "      <td>944876.0</td>\n",
       "      <td>https:maps.googleapis.commapsapijs?libraries=g...</td>\n",
       "      <td>1075000.0</td>\n",
       "      <td>2019-02-09</td>\n",
       "      <td>bostadsratt</td>\n",
       "      <td>saldabostadsratt-3-nordstan-vanersborgs-kommun...</td>\n",
       "      <td>4364.0</td>\n",
       "      <td>0</td>\n",
       "    </tr>\n",
       "  </tbody>\n",
       "</table>\n",
       "</div>"
      ],
      "text/plain": [
       "   Antal rum  Begärt pris  Biarea  Boarea  Byggår  Driftskostnad  \\\n",
       "0        5.0    1395000.0    20.0   168.0  1920.0        21518.0   \n",
       "1       10.0    1295000.0   170.0   175.0  1912.0        57949.0   \n",
       "2        4.0    1595000.0    32.0   124.0  1985.0        29252.0   \n",
       "3        4.0    4300000.0    28.0   113.0  1983.0        23960.0   \n",
       "4        3.0    1075000.0     0.0    74.5     0.0         4308.0   \n",
       "\n",
       "   Pris per kvadratmeter  Prisutveckling  Tomtarea                   address  \\\n",
       "0                 9018.0        120000.0     707.0            Dalviksgatan 6   \n",
       "1                 5714.0       -295000.0    1742.0           Mellbyvägen 138   \n",
       "2                14516.0        205000.0     776.0                  Åvägen 5   \n",
       "3                41593.0        400000.0     428.5  Gamla Tingstadsgatan 34A   \n",
       "4                14430.0             0.0       0.0               Nygatan 20A   \n",
       "\n",
       "                                 coordinate        id  \\\n",
       "0   [58.41833602158281. 14.173516000689672]  944890.0   \n",
       "1    [58.1423480849156. 12.581077812236193]  944821.0   \n",
       "2   [57.59336826715258. 12.875525104278504]  944820.0   \n",
       "3  [57.729935889695675. 11.975547588656331]  944836.0   \n",
       "4   [58.38360603922884. 12.325171522845999]  944876.0   \n",
       "\n",
       "                                             map_url      price   sale_date  \\\n",
       "0  https:maps.googleapis.commapsapijs?libraries=g...  1515000.0  2019-02-10   \n",
       "1  https:maps.googleapis.commapsapijs?libraries=g...  1000000.0  2019-02-09   \n",
       "2  https:maps.googleapis.commapsapijs?libraries=g...  1800000.0  2019-02-09   \n",
       "3  https:maps.googleapis.commapsapijs?libraries=g...  4700000.0  2019-02-09   \n",
       "4  https:maps.googleapis.commapsapijs?libraries=g...  1075000.0  2019-02-09   \n",
       "\n",
       "          type                                                url  \\\n",
       "0        villa  saldavilla-5-tibro-tibro-kommun-dalviksgatan-6...   \n",
       "1        villa  saldavilla-10-stora-mellby-alingsas-kommun-mel...   \n",
       "2        villa  saldavilla-4-kinnama-boras-kommun-avagen-5-944820   \n",
       "3       radhus  saldaradhus-4-brunnsbo-goteborgs-kommun-gamla-...   \n",
       "4  bostadsratt  saldabostadsratt-3-nordstan-vanersborgs-kommun...   \n",
       "\n",
       "   Avgift/månad Förening  \n",
       "0           0.0        0  \n",
       "1           0.0        0  \n",
       "2           0.0        0  \n",
       "3           0.0        0  \n",
       "4        4364.0        0  "
      ]
     },
     "execution_count": 5,
     "metadata": {},
     "output_type": "execute_result"
    }
   ],
   "source": [
    "house_data.head()"
   ]
  },
  {
   "cell_type": "code",
   "execution_count": 6,
   "metadata": {},
   "outputs": [
    {
     "data": {
      "text/html": [
       "<div>\n",
       "<style scoped>\n",
       "    .dataframe tbody tr th:only-of-type {\n",
       "        vertical-align: middle;\n",
       "    }\n",
       "\n",
       "    .dataframe tbody tr th {\n",
       "        vertical-align: top;\n",
       "    }\n",
       "\n",
       "    .dataframe thead th {\n",
       "        text-align: right;\n",
       "    }\n",
       "</style>\n",
       "<table border=\"1\" class=\"dataframe\">\n",
       "  <thead>\n",
       "    <tr style=\"text-align: right;\">\n",
       "      <th></th>\n",
       "      <th>Antal rum</th>\n",
       "      <th>Begärt pris</th>\n",
       "      <th>Biarea</th>\n",
       "      <th>Boarea</th>\n",
       "      <th>Byggår</th>\n",
       "      <th>Driftskostnad</th>\n",
       "      <th>Pris per kvadratmeter</th>\n",
       "      <th>Prisutveckling</th>\n",
       "      <th>Tomtarea</th>\n",
       "      <th>address</th>\n",
       "      <th>coordinate</th>\n",
       "      <th>id</th>\n",
       "      <th>map_url</th>\n",
       "      <th>price</th>\n",
       "      <th>sale_date</th>\n",
       "      <th>type</th>\n",
       "      <th>url</th>\n",
       "      <th>Avgift/månad</th>\n",
       "      <th>Förening</th>\n",
       "    </tr>\n",
       "  </thead>\n",
       "  <tbody>\n",
       "  </tbody>\n",
       "</table>\n",
       "</div>"
      ],
      "text/plain": [
       "Empty DataFrame\n",
       "Columns: [Antal rum, Begärt pris, Biarea, Boarea, Byggår, Driftskostnad, Pris per kvadratmeter, Prisutveckling, Tomtarea, address, coordinate, id, map_url, price, sale_date, type, url, Avgift/månad, Förening]\n",
       "Index: []"
      ]
     },
     "execution_count": 6,
     "metadata": {},
     "output_type": "execute_result"
    }
   ],
   "source": [
    "mask = (house_data['address'].str.contains('jonsered'))\n",
    "house_data.loc[mask]"
   ]
  },
  {
   "cell_type": "code",
   "execution_count": 7,
   "metadata": {},
   "outputs": [],
   "source": [
    "house_data['Prisutveckling_pct'] = house_data['Prisutveckling'] / house_data['price'] * 100"
   ]
  },
  {
   "cell_type": "code",
   "execution_count": 98,
   "metadata": {},
   "outputs": [
    {
     "data": {
      "text/plain": [
       "array([[<matplotlib.axes._subplots.AxesSubplot object at 0x12e717518>,\n",
       "        <matplotlib.axes._subplots.AxesSubplot object at 0x12e79bba8>,\n",
       "        <matplotlib.axes._subplots.AxesSubplot object at 0x12e7cb160>,\n",
       "        <matplotlib.axes._subplots.AxesSubplot object at 0x12f52c6d8>],\n",
       "       [<matplotlib.axes._subplots.AxesSubplot object at 0x12f554c50>,\n",
       "        <matplotlib.axes._subplots.AxesSubplot object at 0x12f584208>,\n",
       "        <matplotlib.axes._subplots.AxesSubplot object at 0x12f5ad0f0>,\n",
       "        <matplotlib.axes._subplots.AxesSubplot object at 0x12f5d46a0>],\n",
       "       [<matplotlib.axes._subplots.AxesSubplot object at 0x12f5d46d8>,\n",
       "        <matplotlib.axes._subplots.AxesSubplot object at 0x12f747198>,\n",
       "        <matplotlib.axes._subplots.AxesSubplot object at 0x12f76f710>,\n",
       "        <matplotlib.axes._subplots.AxesSubplot object at 0x12f795c88>],\n",
       "       [<matplotlib.axes._subplots.AxesSubplot object at 0x12f7ca240>,\n",
       "        <matplotlib.axes._subplots.AxesSubplot object at 0x12f7f07b8>,\n",
       "        <matplotlib.axes._subplots.AxesSubplot object at 0x130018d30>,\n",
       "        <matplotlib.axes._subplots.AxesSubplot object at 0x1300482e8>]],\n",
       "      dtype=object)"
      ]
     },
     "execution_count": 98,
     "metadata": {},
     "output_type": "execute_result"
    },
    {
     "data": {
      "image/png": "[encoded data removed]",
      "text/plain": [
       "<Figure size 1440x720 with 16 Axes>"
      ]
     },
     "metadata": {
      "needs_background": "light"
     },
     "output_type": "display_data"
    }
   ],
   "source": [
    "price_max = house_data['Prisutveckling_pct'].quantile(0.99)\n",
    "price_min = house_data['Prisutveckling_pct'].quantile(0.01)\n",
    "\n",
    "mask = ((house_data['Prisutveckling_pct'] > price_min) & \n",
    "        (house_data['Prisutveckling_pct'] < price_max) &\n",
    "        (house_data['price'] > 3*10**6) &\n",
    "        \n",
    "        ((house_data['type'] == 'villa') | (house_data['type'] == 'radhus')) &\n",
    "        (house_data['Boarea'] < 100) & (house_data['Boarea'] > 50)\n",
    "       \n",
    "       )\n",
    "\n",
    "house_data_ = house_data.loc[mask].copy()\n",
    "fig,ax = plt.subplots()\n",
    "fig.set_size_inches(20,10)\n",
    "house_data_.hist(bins = 30,ax = ax)"
   ]
  },
  {
   "cell_type": "code",
   "execution_count": 99,
   "metadata": {},
   "outputs": [
    {
     "data": {
      "text/plain": [
       "64285.71428571428"
      ]
     },
     "execution_count": 99,
     "metadata": {},
     "output_type": "execute_result"
    }
   ],
   "source": [
    "4500000 / 70"
   ]
  },
  {
   "cell_type": "code",
   "execution_count": 100,
   "metadata": {},
   "outputs": [
    {
     "data": {
      "text/plain": [
       "Index(['Antal rum', 'Begärt pris', 'Biarea', 'Boarea', 'Byggår',\n",
       "       'Driftskostnad', 'Pris per kvadratmeter', 'Prisutveckling', 'Tomtarea',\n",
       "       'address', 'coordinate', 'id', 'map_url', 'price', 'sale_date', 'type',\n",
       "       'url', 'Avgift/månad', 'Förening', 'Prisutveckling_pct'],\n",
       "      dtype='object')"
      ]
     },
     "execution_count": 100,
     "metadata": {},
     "output_type": "execute_result"
    }
   ],
   "source": [
    "house_data_.columns"
   ]
  },
  {
   "cell_type": "code",
   "execution_count": 101,
   "metadata": {},
   "outputs": [],
   "source": [
    "house_data_['temp'] = house_data_['price'] / house_data_['Boarea']"
   ]
  },
  {
   "cell_type": "code",
   "execution_count": 102,
   "metadata": {},
   "outputs": [
    {
     "data": {
      "text/html": [
       "<div>\n",
       "<style scoped>\n",
       "    .dataframe tbody tr th:only-of-type {\n",
       "        vertical-align: middle;\n",
       "    }\n",
       "\n",
       "    .dataframe tbody tr th {\n",
       "        vertical-align: top;\n",
       "    }\n",
       "\n",
       "    .dataframe thead th {\n",
       "        text-align: right;\n",
       "    }\n",
       "</style>\n",
       "<table border=\"1\" class=\"dataframe\">\n",
       "  <thead>\n",
       "    <tr style=\"text-align: right;\">\n",
       "      <th></th>\n",
       "      <th>price</th>\n",
       "      <th>Begärt pris</th>\n",
       "      <th>Pris per kvadratmeter</th>\n",
       "      <th>temp</th>\n",
       "      <th>Boarea</th>\n",
       "      <th>Biarea</th>\n",
       "    </tr>\n",
       "  </thead>\n",
       "  <tbody>\n",
       "    <tr>\n",
       "      <th>56</th>\n",
       "      <td>4175000.0</td>\n",
       "      <td>3975000.0</td>\n",
       "      <td>43947.0</td>\n",
       "      <td>43947.368421</td>\n",
       "      <td>95.0</td>\n",
       "      <td>40.0</td>\n",
       "    </tr>\n",
       "    <tr>\n",
       "      <th>105</th>\n",
       "      <td>3725000.0</td>\n",
       "      <td>3490000.0</td>\n",
       "      <td>43824.0</td>\n",
       "      <td>43823.529412</td>\n",
       "      <td>85.0</td>\n",
       "      <td>53.0</td>\n",
       "    </tr>\n",
       "    <tr>\n",
       "      <th>142</th>\n",
       "      <td>3400000.0</td>\n",
       "      <td>3200000.0</td>\n",
       "      <td>40476.0</td>\n",
       "      <td>40476.190476</td>\n",
       "      <td>84.0</td>\n",
       "      <td>0.0</td>\n",
       "    </tr>\n",
       "    <tr>\n",
       "      <th>146</th>\n",
       "      <td>6125000.0</td>\n",
       "      <td>6250000.0</td>\n",
       "      <td>62500.0</td>\n",
       "      <td>62500.000000</td>\n",
       "      <td>98.0</td>\n",
       "      <td>50.0</td>\n",
       "    </tr>\n",
       "    <tr>\n",
       "      <th>379</th>\n",
       "      <td>3700000.0</td>\n",
       "      <td>3700000.0</td>\n",
       "      <td>67273.0</td>\n",
       "      <td>67272.727273</td>\n",
       "      <td>55.0</td>\n",
       "      <td>42.0</td>\n",
       "    </tr>\n",
       "  </tbody>\n",
       "</table>\n",
       "</div>"
      ],
      "text/plain": [
       "         price  Begärt pris  Pris per kvadratmeter          temp  Boarea  \\\n",
       "56   4175000.0    3975000.0                43947.0  43947.368421    95.0   \n",
       "105  3725000.0    3490000.0                43824.0  43823.529412    85.0   \n",
       "142  3400000.0    3200000.0                40476.0  40476.190476    84.0   \n",
       "146  6125000.0    6250000.0                62500.0  62500.000000    98.0   \n",
       "379  3700000.0    3700000.0                67273.0  67272.727273    55.0   \n",
       "\n",
       "     Biarea  \n",
       "56     40.0  \n",
       "105    53.0  \n",
       "142     0.0  \n",
       "146    50.0  \n",
       "379    42.0  "
      ]
     },
     "execution_count": 102,
     "metadata": {},
     "output_type": "execute_result"
    }
   ],
   "source": [
    "house_data_[['price','Begärt pris','Pris per kvadratmeter','temp','Boarea','Biarea']].head()"
   ]
  },
  {
   "cell_type": "code",
   "execution_count": 103,
   "metadata": {},
   "outputs": [
    {
     "data": {
      "text/plain": [
       "<matplotlib.axes._subplots.AxesSubplot at 0x1300fc2e8>"
      ]
     },
     "execution_count": 103,
     "metadata": {},
     "output_type": "execute_result"
    },
    {
     "data": {
      "image/png": "[encoded data removed]",
      "text/plain": [
       "<Figure size 1440x720 with 1 Axes>"
      ]
     },
     "metadata": {
      "needs_background": "light"
     },
     "output_type": "display_data"
    }
   ],
   "source": [
    "house_data_['Pris per kvadratmeter'].hist(bins = 40)"
   ]
  },
  {
   "cell_type": "code",
   "execution_count": 104,
   "metadata": {},
   "outputs": [
    {
     "data": {
      "text/plain": [
       "<matplotlib.axes._subplots.AxesSubplot at 0x1308ff358>"
      ]
     },
     "execution_count": 104,
     "metadata": {},
     "output_type": "execute_result"
    },
    {
     "data": {
      "image/png": "[encoded data removed]",
      "text/plain": [
       "<Figure size 1440x720 with 1 Axes>"
      ]
     },
     "metadata": {
      "needs_background": "light"
     },
     "output_type": "display_data"
    }
   ],
   "source": [
    "house_data_['price'].hist(bins = 40)"
   ]
  },
  {
   "cell_type": "code",
   "execution_count": 96,
   "metadata": {},
   "outputs": [
    {
     "data": {
      "text/plain": [
       "41666.666666666664"
      ]
     },
     "execution_count": 96,
     "metadata": {},
     "output_type": "execute_result"
    }
   ],
   "source": [
    "3000000 / 72"
   ]
  },
  {
   "cell_type": "code",
   "execution_count": 88,
   "metadata": {},
   "outputs": [
    {
     "data": {
      "text/plain": [
       "62500.0"
      ]
     },
     "execution_count": 88,
     "metadata": {},
     "output_type": "execute_result"
    }
   ],
   "source": [
    "4500000 / 72"
   ]
  },
  {
   "cell_type": "code",
   "execution_count": 69,
   "metadata": {},
   "outputs": [
    {
     "data": {
      "text/plain": [
       "array(['radhus', 'villa'], dtype=object)"
      ]
     },
     "execution_count": 69,
     "metadata": {},
     "output_type": "execute_result"
    }
   ],
   "source": [
    "house_data_['type'].unique()"
   ]
  },
  {
   "cell_type": "code",
   "execution_count": 97,
   "metadata": {},
   "outputs": [
    {
     "data": {
      "text/plain": [
       "3739837.398373984"
      ]
     },
     "execution_count": 97,
     "metadata": {},
     "output_type": "execute_result"
    }
   ],
   "source": [
    "4600000/(1.23)"
   ]
  },
  {
   "cell_type": "code",
   "execution_count": null,
   "metadata": {},
   "outputs": [],
   "source": []
  }
 ],
 "metadata": {
  "kernelspec": {
   "display_name": "Python 3",
   "language": "python",
   "name": "python3"
  },
  "language_info": {
   "codemirror_mode": {
    "name": "ipython",
    "version": 3
   },
   "file_extension": ".py",
   "mimetype": "text/x-python",
   "name": "python",
   "nbconvert_exporter": "python",
   "pygments_lexer": "ipython3",
   "version": "3.6.5"
  }
 },
 "nbformat": 4,
 "nbformat_minor": 2
}
