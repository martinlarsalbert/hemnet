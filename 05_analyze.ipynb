{
 "cells": [
  {
   "cell_type": "code",
   "execution_count": 1,
   "metadata": {
    "pycharm": {
     "is_executing": false
    }
   },
   "outputs": [],
   "source": [
    "import pandas as pd\n",
    "import matplotlib.pyplot as plt\n",
    "from matplotlib.pylab import rcParams\n",
    "rcParams['figure.figsize'] = 20, 10\n",
    "import re\n",
    "import os"
   ]
  },
  {
   "cell_type": "code",
   "execution_count": 105,
   "metadata": {},
   "outputs": [],
   "source": [
    "house_data = pd.read_csv('house_data_clean_no_coordinates.csv')"
   ]
  },
  {
   "cell_type": "code",
   "execution_count": 106,
   "metadata": {},
   "outputs": [
    {
     "data": {
      "text/html": [
       "<div>\n",
       "<style scoped>\n",
       "    .dataframe tbody tr th:only-of-type {\n",
       "        vertical-align: middle;\n",
       "    }\n",
       "\n",
       "    .dataframe tbody tr th {\n",
       "        vertical-align: top;\n",
       "    }\n",
       "\n",
       "    .dataframe thead th {\n",
       "        text-align: right;\n",
       "    }\n",
       "</style>\n",
       "<table border=\"1\" class=\"dataframe\">\n",
       "  <thead>\n",
       "    <tr style=\"text-align: right;\">\n",
       "      <th></th>\n",
       "      <th>Antal rum</th>\n",
       "      <th>Avgift/månad</th>\n",
       "      <th>Begärt pris</th>\n",
       "      <th>Boarea</th>\n",
       "      <th>Byggår</th>\n",
       "      <th>Driftskostnad</th>\n",
       "      <th>Pris per kvadratmeter</th>\n",
       "      <th>Prisutveckling</th>\n",
       "      <th>id</th>\n",
       "      <th>price</th>\n",
       "      <th>Biarea</th>\n",
       "      <th>Tomtarea</th>\n",
       "      <th>lat</th>\n",
       "      <th>lon</th>\n",
       "    </tr>\n",
       "  </thead>\n",
       "  <tbody>\n",
       "    <tr>\n",
       "      <th>count</th>\n",
       "      <td>22434.000000</td>\n",
       "      <td>2.243400e+04</td>\n",
       "      <td>2.243400e+04</td>\n",
       "      <td>22434.000000</td>\n",
       "      <td>2.243400e+04</td>\n",
       "      <td>22434.000000</td>\n",
       "      <td>22434.000000</td>\n",
       "      <td>2.243400e+04</td>\n",
       "      <td>22434.000000</td>\n",
       "      <td>2.243400e+04</td>\n",
       "      <td>22434.000000</td>\n",
       "      <td>22434.00000</td>\n",
       "      <td>22434.000000</td>\n",
       "      <td>22434.000000</td>\n",
       "    </tr>\n",
       "    <tr>\n",
       "      <th>mean</th>\n",
       "      <td>4.977891</td>\n",
       "      <td>3.175655e+03</td>\n",
       "      <td>2.654204e+06</td>\n",
       "      <td>216.766604</td>\n",
       "      <td>8.741867e+10</td>\n",
       "      <td>18589.651467</td>\n",
       "      <td>29461.822279</td>\n",
       "      <td>2.051977e+05</td>\n",
       "      <td>528051.927209</td>\n",
       "      <td>2.881532e+06</td>\n",
       "      <td>21.224035</td>\n",
       "      <td>1065.54141</td>\n",
       "      <td>57.894742</td>\n",
       "      <td>12.183183</td>\n",
       "    </tr>\n",
       "    <tr>\n",
       "      <th>std</th>\n",
       "      <td>4.191378</td>\n",
       "      <td>1.642644e+05</td>\n",
       "      <td>6.213439e+05</td>\n",
       "      <td>268.321613</td>\n",
       "      <td>1.308051e+13</td>\n",
       "      <td>15257.182467</td>\n",
       "      <td>9696.504115</td>\n",
       "      <td>2.810909e+05</td>\n",
       "      <td>259348.711121</td>\n",
       "      <td>5.456841e+05</td>\n",
       "      <td>43.502880</td>\n",
       "      <td>6111.72088</td>\n",
       "      <td>0.304406</td>\n",
       "      <td>0.535244</td>\n",
       "    </tr>\n",
       "    <tr>\n",
       "      <th>min</th>\n",
       "      <td>3.000000</td>\n",
       "      <td>0.000000e+00</td>\n",
       "      <td>0.000000e+00</td>\n",
       "      <td>38.000000</td>\n",
       "      <td>0.000000e+00</td>\n",
       "      <td>0.000000</td>\n",
       "      <td>8803.000000</td>\n",
       "      <td>-5.225000e+06</td>\n",
       "      <td>313.000000</td>\n",
       "      <td>2.000050e+06</td>\n",
       "      <td>0.000000</td>\n",
       "      <td>0.00000</td>\n",
       "      <td>57.330030</td>\n",
       "      <td>10.991294</td>\n",
       "    </tr>\n",
       "    <tr>\n",
       "      <th>25%</th>\n",
       "      <td>3.000000</td>\n",
       "      <td>0.000000e+00</td>\n",
       "      <td>2.200000e+06</td>\n",
       "      <td>85.000000</td>\n",
       "      <td>1.954000e+03</td>\n",
       "      <td>4440.000000</td>\n",
       "      <td>22115.000000</td>\n",
       "      <td>0.000000e+00</td>\n",
       "      <td>307907.500000</td>\n",
       "      <td>2.415000e+06</td>\n",
       "      <td>0.000000</td>\n",
       "      <td>0.00000</td>\n",
       "      <td>57.695557</td>\n",
       "      <td>11.926365</td>\n",
       "    </tr>\n",
       "    <tr>\n",
       "      <th>50%</th>\n",
       "      <td>4.000000</td>\n",
       "      <td>0.000000e+00</td>\n",
       "      <td>2.595000e+06</td>\n",
       "      <td>115.000000</td>\n",
       "      <td>1.971000e+03</td>\n",
       "      <td>19437.000000</td>\n",
       "      <td>28313.000000</td>\n",
       "      <td>2.000000e+05</td>\n",
       "      <td>545008.500000</td>\n",
       "      <td>2.810000e+06</td>\n",
       "      <td>0.000000</td>\n",
       "      <td>191.00000</td>\n",
       "      <td>57.747187</td>\n",
       "      <td>12.012291</td>\n",
       "    </tr>\n",
       "    <tr>\n",
       "      <th>75%</th>\n",
       "      <td>5.000000</td>\n",
       "      <td>4.387000e+03</td>\n",
       "      <td>3.000000e+06</td>\n",
       "      <td>151.000000</td>\n",
       "      <td>1.992000e+03</td>\n",
       "      <td>31300.750000</td>\n",
       "      <td>35487.750000</td>\n",
       "      <td>3.800000e+05</td>\n",
       "      <td>757418.250000</td>\n",
       "      <td>3.325000e+06</td>\n",
       "      <td>30.000000</td>\n",
       "      <td>938.00000</td>\n",
       "      <td>57.991506</td>\n",
       "      <td>12.291706</td>\n",
       "    </tr>\n",
       "    <tr>\n",
       "      <th>max</th>\n",
       "      <td>75.000000</td>\n",
       "      <td>2.460250e+07</td>\n",
       "      <td>8.240000e+06</td>\n",
       "      <td>2685.000000</td>\n",
       "      <td>1.959196e+15</td>\n",
       "      <td>405696.000000</td>\n",
       "      <td>61000.000000</td>\n",
       "      <td>9.950000e+05</td>\n",
       "      <td>939070.000000</td>\n",
       "      <td>3.999500e+06</td>\n",
       "      <td>1535.000000</td>\n",
       "      <td>338321.00000</td>\n",
       "      <td>59.099301</td>\n",
       "      <td>14.612577</td>\n",
       "    </tr>\n",
       "  </tbody>\n",
       "</table>\n",
       "</div>"
      ],
      "text/plain": [
       "          Antal rum  Avgift/månad   Begärt pris        Boarea        Byggår  \\\n",
       "count  22434.000000  2.243400e+04  2.243400e+04  22434.000000  2.243400e+04   \n",
       "mean       4.977891  3.175655e+03  2.654204e+06    216.766604  8.741867e+10   \n",
       "std        4.191378  1.642644e+05  6.213439e+05    268.321613  1.308051e+13   \n",
       "min        3.000000  0.000000e+00  0.000000e+00     38.000000  0.000000e+00   \n",
       "25%        3.000000  0.000000e+00  2.200000e+06     85.000000  1.954000e+03   \n",
       "50%        4.000000  0.000000e+00  2.595000e+06    115.000000  1.971000e+03   \n",
       "75%        5.000000  4.387000e+03  3.000000e+06    151.000000  1.992000e+03   \n",
       "max       75.000000  2.460250e+07  8.240000e+06   2685.000000  1.959196e+15   \n",
       "\n",
       "       Driftskostnad  Pris per kvadratmeter  Prisutveckling             id  \\\n",
       "count   22434.000000           22434.000000    2.243400e+04   22434.000000   \n",
       "mean    18589.651467           29461.822279    2.051977e+05  528051.927209   \n",
       "std     15257.182467            9696.504115    2.810909e+05  259348.711121   \n",
       "min         0.000000            8803.000000   -5.225000e+06     313.000000   \n",
       "25%      4440.000000           22115.000000    0.000000e+00  307907.500000   \n",
       "50%     19437.000000           28313.000000    2.000000e+05  545008.500000   \n",
       "75%     31300.750000           35487.750000    3.800000e+05  757418.250000   \n",
       "max    405696.000000           61000.000000    9.950000e+05  939070.000000   \n",
       "\n",
       "              price        Biarea      Tomtarea           lat           lon  \n",
       "count  2.243400e+04  22434.000000   22434.00000  22434.000000  22434.000000  \n",
       "mean   2.881532e+06     21.224035    1065.54141     57.894742     12.183183  \n",
       "std    5.456841e+05     43.502880    6111.72088      0.304406      0.535244  \n",
       "min    2.000050e+06      0.000000       0.00000     57.330030     10.991294  \n",
       "25%    2.415000e+06      0.000000       0.00000     57.695557     11.926365  \n",
       "50%    2.810000e+06      0.000000     191.00000     57.747187     12.012291  \n",
       "75%    3.325000e+06     30.000000     938.00000     57.991506     12.291706  \n",
       "max    3.999500e+06   1535.000000  338321.00000     59.099301     14.612577  "
      ]
     },
     "execution_count": 106,
     "metadata": {},
     "output_type": "execute_result"
    }
   ],
   "source": [
    "house_data.describe()"
   ]
  },
  {
   "cell_type": "code",
   "execution_count": 107,
   "metadata": {},
   "outputs": [
    {
     "data": {
      "text/plain": [
       "Antal rum                float64\n",
       "Avgift/månad             float64\n",
       "Begärt pris              float64\n",
       "Boarea                   float64\n",
       "Byggår                   float64\n",
       "Driftskostnad            float64\n",
       "Förening                  object\n",
       "Pris per kvadratmeter    float64\n",
       "Prisutveckling           float64\n",
       "address                   object\n",
       "coordinate                object\n",
       "id                       float64\n",
       "map_url                   object\n",
       "price                    float64\n",
       "sale_date                 object\n",
       "type                      object\n",
       "url                       object\n",
       "Biarea                   float64\n",
       "Tomtarea                 float64\n",
       "lat                      float64\n",
       "lon                      float64\n",
       "dtype: object"
      ]
     },
     "execution_count": 107,
     "metadata": {},
     "output_type": "execute_result"
    }
   ],
   "source": [
    "house_data.dtypes"
   ]
  },
  {
   "cell_type": "code",
   "execution_count": 108,
   "metadata": {},
   "outputs": [
    {
     "data": {
      "text/html": [
       "<div>\n",
       "<style scoped>\n",
       "    .dataframe tbody tr th:only-of-type {\n",
       "        vertical-align: middle;\n",
       "    }\n",
       "\n",
       "    .dataframe tbody tr th {\n",
       "        vertical-align: top;\n",
       "    }\n",
       "\n",
       "    .dataframe thead th {\n",
       "        text-align: right;\n",
       "    }\n",
       "</style>\n",
       "<table border=\"1\" class=\"dataframe\">\n",
       "  <thead>\n",
       "    <tr style=\"text-align: right;\">\n",
       "      <th></th>\n",
       "      <th>Antal rum</th>\n",
       "      <th>Avgift/månad</th>\n",
       "      <th>Begärt pris</th>\n",
       "      <th>Boarea</th>\n",
       "      <th>Byggår</th>\n",
       "      <th>Driftskostnad</th>\n",
       "      <th>Förening</th>\n",
       "      <th>Pris per kvadratmeter</th>\n",
       "      <th>Prisutveckling</th>\n",
       "      <th>address</th>\n",
       "      <th>...</th>\n",
       "      <th>id</th>\n",
       "      <th>map_url</th>\n",
       "      <th>price</th>\n",
       "      <th>sale_date</th>\n",
       "      <th>type</th>\n",
       "      <th>url</th>\n",
       "      <th>Biarea</th>\n",
       "      <th>Tomtarea</th>\n",
       "      <th>lat</th>\n",
       "      <th>lon</th>\n",
       "    </tr>\n",
       "  </thead>\n",
       "  <tbody>\n",
       "    <tr>\n",
       "      <th>0</th>\n",
       "      <td>4.0</td>\n",
       "      <td>5604.0</td>\n",
       "      <td>2475000.0</td>\n",
       "      <td>103.0</td>\n",
       "      <td>2008.0</td>\n",
       "      <td>9600.0</td>\n",
       "      <td>Brf Höjdpunkten</td>\n",
       "      <td>24757.0</td>\n",
       "      <td>75000.0</td>\n",
       "      <td>Björkhagegatan 6</td>\n",
       "      <td>...</td>\n",
       "      <td>938778.0</td>\n",
       "      <td>https:maps.googleapis.commapsapijs?libraries=g...</td>\n",
       "      <td>2550000.0</td>\n",
       "      <td>2019-01-28</td>\n",
       "      <td>bostadsratt</td>\n",
       "      <td>saldabostadsratt-4-stadsskogen-alingsas-kommun...</td>\n",
       "      <td>0.0</td>\n",
       "      <td>0.0</td>\n",
       "      <td>57.922913</td>\n",
       "      <td>12.502651</td>\n",
       "    </tr>\n",
       "    <tr>\n",
       "      <th>1</th>\n",
       "      <td>7.0</td>\n",
       "      <td>0.0</td>\n",
       "      <td>1995000.0</td>\n",
       "      <td>175.0</td>\n",
       "      <td>1958.0</td>\n",
       "      <td>52400.0</td>\n",
       "      <td>0</td>\n",
       "      <td>13029.0</td>\n",
       "      <td>285000.0</td>\n",
       "      <td>Ekebackevägen 1</td>\n",
       "      <td>...</td>\n",
       "      <td>938744.0</td>\n",
       "      <td>https:maps.googleapis.commapsapijs?libraries=g...</td>\n",
       "      <td>2280000.0</td>\n",
       "      <td>2019-01-28</td>\n",
       "      <td>villa</td>\n",
       "      <td>saldavilla-7-lilla-foss-munkedals-kommun-ekeba...</td>\n",
       "      <td>145.0</td>\n",
       "      <td>1483.0</td>\n",
       "      <td>58.472414</td>\n",
       "      <td>11.669846</td>\n",
       "    </tr>\n",
       "    <tr>\n",
       "      <th>2</th>\n",
       "      <td>5.0</td>\n",
       "      <td>0.0</td>\n",
       "      <td>3495000.0</td>\n",
       "      <td>103.0</td>\n",
       "      <td>1979.0</td>\n",
       "      <td>38865.0</td>\n",
       "      <td>0</td>\n",
       "      <td>32330.0</td>\n",
       "      <td>-165000.0</td>\n",
       "      <td>Agnebäcksvägen 24</td>\n",
       "      <td>...</td>\n",
       "      <td>938717.0</td>\n",
       "      <td>https:maps.googleapis.commapsapijs?libraries=g...</td>\n",
       "      <td>3330000.0</td>\n",
       "      <td>2019-01-28</td>\n",
       "      <td>radhus</td>\n",
       "      <td>saldaradhus-5-landvetter-harryda-kommun-agneba...</td>\n",
       "      <td>0.0</td>\n",
       "      <td>201.0</td>\n",
       "      <td>57.690137</td>\n",
       "      <td>12.208904</td>\n",
       "    </tr>\n",
       "    <tr>\n",
       "      <th>3</th>\n",
       "      <td>5.0</td>\n",
       "      <td>0.0</td>\n",
       "      <td>2275000.0</td>\n",
       "      <td>137.0</td>\n",
       "      <td>1980.0</td>\n",
       "      <td>36000.0</td>\n",
       "      <td>0</td>\n",
       "      <td>16606.0</td>\n",
       "      <td>0.0</td>\n",
       "      <td>Tvåöringsgränd 12</td>\n",
       "      <td>...</td>\n",
       "      <td>938962.0</td>\n",
       "      <td>https:maps.googleapis.commapsapijs?libraries=g...</td>\n",
       "      <td>2275000.0</td>\n",
       "      <td>2019-01-28</td>\n",
       "      <td>villa</td>\n",
       "      <td>saldavilla-5-helenedal-uddevalla-kommun-tvaori...</td>\n",
       "      <td>21.0</td>\n",
       "      <td>346.0</td>\n",
       "      <td>58.377189</td>\n",
       "      <td>11.952472</td>\n",
       "    </tr>\n",
       "    <tr>\n",
       "      <th>4</th>\n",
       "      <td>3.0</td>\n",
       "      <td>4492.0</td>\n",
       "      <td>2650000.0</td>\n",
       "      <td>70.0</td>\n",
       "      <td>2016.0</td>\n",
       "      <td>0.0</td>\n",
       "      <td>BRF Lergöken</td>\n",
       "      <td>40000.0</td>\n",
       "      <td>150000.0</td>\n",
       "      <td>Lergöksgatan 15</td>\n",
       "      <td>...</td>\n",
       "      <td>938923.0</td>\n",
       "      <td>https:maps.googleapis.commapsapijs?libraries=g...</td>\n",
       "      <td>2800000.0</td>\n",
       "      <td>2019-01-28</td>\n",
       "      <td>bostadsratt</td>\n",
       "      <td>saldabostadsratt-3-frolunda-goteborgs-kommun-l...</td>\n",
       "      <td>0.0</td>\n",
       "      <td>0.0</td>\n",
       "      <td>57.657389</td>\n",
       "      <td>11.900349</td>\n",
       "    </tr>\n",
       "  </tbody>\n",
       "</table>\n",
       "<p>5 rows × 21 columns</p>\n",
       "</div>"
      ],
      "text/plain": [
       "   Antal rum  Avgift/månad  Begärt pris  Boarea  Byggår  Driftskostnad  \\\n",
       "0        4.0        5604.0    2475000.0   103.0  2008.0         9600.0   \n",
       "1        7.0           0.0    1995000.0   175.0  1958.0        52400.0   \n",
       "2        5.0           0.0    3495000.0   103.0  1979.0        38865.0   \n",
       "3        5.0           0.0    2275000.0   137.0  1980.0        36000.0   \n",
       "4        3.0        4492.0    2650000.0    70.0  2016.0            0.0   \n",
       "\n",
       "                             Förening  Pris per kvadratmeter  Prisutveckling  \\\n",
       "0            Brf Höjdpunkten                        24757.0         75000.0   \n",
       "1                                   0                13029.0        285000.0   \n",
       "2                                   0                32330.0       -165000.0   \n",
       "3                                   0                16606.0             0.0   \n",
       "4               BRF Lergöken                        40000.0        150000.0   \n",
       "\n",
       "             address  ...        id  \\\n",
       "0   Björkhagegatan 6  ...  938778.0   \n",
       "1    Ekebackevägen 1  ...  938744.0   \n",
       "2  Agnebäcksvägen 24  ...  938717.0   \n",
       "3  Tvåöringsgränd 12  ...  938962.0   \n",
       "4    Lergöksgatan 15  ...  938923.0   \n",
       "\n",
       "                                             map_url      price   sale_date  \\\n",
       "0  https:maps.googleapis.commapsapijs?libraries=g...  2550000.0  2019-01-28   \n",
       "1  https:maps.googleapis.commapsapijs?libraries=g...  2280000.0  2019-01-28   \n",
       "2  https:maps.googleapis.commapsapijs?libraries=g...  3330000.0  2019-01-28   \n",
       "3  https:maps.googleapis.commapsapijs?libraries=g...  2275000.0  2019-01-28   \n",
       "4  https:maps.googleapis.commapsapijs?libraries=g...  2800000.0  2019-01-28   \n",
       "\n",
       "          type                                                url Biarea  \\\n",
       "0  bostadsratt  saldabostadsratt-4-stadsskogen-alingsas-kommun...    0.0   \n",
       "1        villa  saldavilla-7-lilla-foss-munkedals-kommun-ekeba...  145.0   \n",
       "2       radhus  saldaradhus-5-landvetter-harryda-kommun-agneba...    0.0   \n",
       "3        villa  saldavilla-5-helenedal-uddevalla-kommun-tvaori...   21.0   \n",
       "4  bostadsratt  saldabostadsratt-3-frolunda-goteborgs-kommun-l...    0.0   \n",
       "\n",
       "   Tomtarea        lat        lon  \n",
       "0       0.0  57.922913  12.502651  \n",
       "1    1483.0  58.472414  11.669846  \n",
       "2     201.0  57.690137  12.208904  \n",
       "3     346.0  58.377189  11.952472  \n",
       "4       0.0  57.657389  11.900349  \n",
       "\n",
       "[5 rows x 21 columns]"
      ]
     },
     "execution_count": 108,
     "metadata": {},
     "output_type": "execute_result"
    }
   ],
   "source": [
    "house_data.head()"
   ]
  },
  {
   "cell_type": "code",
   "execution_count": 109,
   "metadata": {},
   "outputs": [
    {
     "data": {
      "text/html": [
       "<div>\n",
       "<style scoped>\n",
       "    .dataframe tbody tr th:only-of-type {\n",
       "        vertical-align: middle;\n",
       "    }\n",
       "\n",
       "    .dataframe tbody tr th {\n",
       "        vertical-align: top;\n",
       "    }\n",
       "\n",
       "    .dataframe thead th {\n",
       "        text-align: right;\n",
       "    }\n",
       "</style>\n",
       "<table border=\"1\" class=\"dataframe\">\n",
       "  <thead>\n",
       "    <tr style=\"text-align: right;\">\n",
       "      <th></th>\n",
       "      <th>Antal rum</th>\n",
       "      <th>Avgift/månad</th>\n",
       "      <th>Begärt pris</th>\n",
       "      <th>Boarea</th>\n",
       "      <th>Byggår</th>\n",
       "      <th>Driftskostnad</th>\n",
       "      <th>Förening</th>\n",
       "      <th>Pris per kvadratmeter</th>\n",
       "      <th>Prisutveckling</th>\n",
       "      <th>address</th>\n",
       "      <th>...</th>\n",
       "      <th>id</th>\n",
       "      <th>map_url</th>\n",
       "      <th>price</th>\n",
       "      <th>sale_date</th>\n",
       "      <th>type</th>\n",
       "      <th>url</th>\n",
       "      <th>Biarea</th>\n",
       "      <th>Tomtarea</th>\n",
       "      <th>lat</th>\n",
       "      <th>lon</th>\n",
       "    </tr>\n",
       "  </thead>\n",
       "  <tbody>\n",
       "  </tbody>\n",
       "</table>\n",
       "<p>0 rows × 21 columns</p>\n",
       "</div>"
      ],
      "text/plain": [
       "Empty DataFrame\n",
       "Columns: [Antal rum, Avgift/månad, Begärt pris, Boarea, Byggår, Driftskostnad, Förening, Pris per kvadratmeter, Prisutveckling, address, coordinate, id, map_url, price, sale_date, type, url, Biarea, Tomtarea, lat, lon]\n",
       "Index: []\n",
       "\n",
       "[0 rows x 21 columns]"
      ]
     },
     "execution_count": 109,
     "metadata": {},
     "output_type": "execute_result"
    }
   ],
   "source": [
    "mask = (house_data['address'].str.contains('jonsered'))\n",
    "house_data.loc[mask]"
   ]
  },
  {
   "cell_type": "code",
   "execution_count": 110,
   "metadata": {},
   "outputs": [],
   "source": [
    "house_data['Prisutveckling_pct'] = house_data['Prisutveckling'] / house_data['price'] * 100"
   ]
  },
  {
   "cell_type": "code",
   "execution_count": 111,
   "metadata": {},
   "outputs": [
    {
     "name": "stderr",
     "output_type": "stream",
     "text": [
      "/Users/martinalexandersson/Dev/hemnet/venv/lib/python3.6/site-packages/IPython/core/interactiveshell.py:3267: UserWarning: To output multiple subplots, the figure containing the passed axes is being cleared\n",
      "  exec(code_obj, self.user_global_ns, self.user_ns)\n"
     ]
    },
    {
     "data": {
      "text/plain": [
       "array([[<matplotlib.axes._subplots.AxesSubplot object at 0x1351db128>,\n",
       "        <matplotlib.axes._subplots.AxesSubplot object at 0x1350d3940>,\n",
       "        <matplotlib.axes._subplots.AxesSubplot object at 0x1350eceb8>,\n",
       "        <matplotlib.axes._subplots.AxesSubplot object at 0x13510e470>],\n",
       "       [<matplotlib.axes._subplots.AxesSubplot object at 0x1351279e8>,\n",
       "        <matplotlib.axes._subplots.AxesSubplot object at 0x135142f60>,\n",
       "        <matplotlib.axes._subplots.AxesSubplot object at 0x134f73518>,\n",
       "        <matplotlib.axes._subplots.AxesSubplot object at 0x134f8cac8>],\n",
       "       [<matplotlib.axes._subplots.AxesSubplot object at 0x134f8cb00>,\n",
       "        <matplotlib.axes._subplots.AxesSubplot object at 0x13500b5c0>,\n",
       "        <matplotlib.axes._subplots.AxesSubplot object at 0x134fa5b38>,\n",
       "        <matplotlib.axes._subplots.AxesSubplot object at 0x134fc70f0>],\n",
       "       [<matplotlib.axes._subplots.AxesSubplot object at 0x1321dd668>,\n",
       "        <matplotlib.axes._subplots.AxesSubplot object at 0x1321f6be0>,\n",
       "        <matplotlib.axes._subplots.AxesSubplot object at 0x132218198>,\n",
       "        <matplotlib.axes._subplots.AxesSubplot object at 0x106383710>]],\n",
       "      dtype=object)"
      ]
     },
     "execution_count": 111,
     "metadata": {},
     "output_type": "execute_result"
    },
    {
     "data": {
      "image/png": "[encoded data removed]",
      "text/plain": [
       "<Figure size 1440x720 with 16 Axes>"
      ]
     },
     "metadata": {
      "needs_background": "light"
     },
     "output_type": "display_data"
    }
   ],
   "source": [
    "price_max = house_data['Prisutveckling_pct'].quantile(0.99)\n",
    "price_min = house_data['Prisutveckling_pct'].quantile(0.01)\n",
    "\n",
    "mask = ((house_data['Prisutveckling_pct'] > price_min) & \n",
    "        (house_data['Prisutveckling_pct'] < price_max) &\n",
    "        (house_data['price'] > 3*10**6) &\n",
    "        \n",
    "        ((house_data['type'] == 'villa') | (house_data['type'] == 'radhus')) &\n",
    "        (house_data['Boarea'] < 100) & (house_data['Boarea'] > 50)\n",
    "       \n",
    "       )\n",
    "\n",
    "house_data_ = house_data.loc[mask].copy()\n",
    "fig,ax = plt.subplots()\n",
    "fig.set_size_inches(20,10)\n",
    "house_data_.hist(bins = 30,ax = ax)"
   ]
  },
  {
   "cell_type": "code",
   "execution_count": 112,
   "metadata": {},
   "outputs": [
    {
     "data": {
      "text/plain": [
       "64285.71428571428"
      ]
     },
     "execution_count": 112,
     "metadata": {},
     "output_type": "execute_result"
    }
   ],
   "source": [
    "4500000 / 70"
   ]
  },
  {
   "cell_type": "code",
   "execution_count": 113,
   "metadata": {},
   "outputs": [
    {
     "data": {
      "text/plain": [
       "Index(['Antal rum', 'Avgift/månad', 'Begärt pris', 'Boarea', 'Byggår',\n",
       "       'Driftskostnad', 'Förening', 'Pris per kvadratmeter', 'Prisutveckling',\n",
       "       'address', 'coordinate', 'id', 'map_url', 'price', 'sale_date', 'type',\n",
       "       'url', 'Biarea', 'Tomtarea', 'lat', 'lon', 'Prisutveckling_pct'],\n",
       "      dtype='object')"
      ]
     },
     "execution_count": 113,
     "metadata": {},
     "output_type": "execute_result"
    }
   ],
   "source": [
    "house_data_.columns"
   ]
  },
  {
   "cell_type": "code",
   "execution_count": 114,
   "metadata": {},
   "outputs": [],
   "source": [
    "house_data_['temp'] = house_data_['price'] / house_data_['Boarea']"
   ]
  },
  {
   "cell_type": "code",
   "execution_count": 115,
   "metadata": {},
   "outputs": [
    {
     "data": {
      "text/html": [
       "<div>\n",
       "<style scoped>\n",
       "    .dataframe tbody tr th:only-of-type {\n",
       "        vertical-align: middle;\n",
       "    }\n",
       "\n",
       "    .dataframe tbody tr th {\n",
       "        vertical-align: top;\n",
       "    }\n",
       "\n",
       "    .dataframe thead th {\n",
       "        text-align: right;\n",
       "    }\n",
       "</style>\n",
       "<table border=\"1\" class=\"dataframe\">\n",
       "  <thead>\n",
       "    <tr style=\"text-align: right;\">\n",
       "      <th></th>\n",
       "      <th>price</th>\n",
       "      <th>Begärt pris</th>\n",
       "      <th>Pris per kvadratmeter</th>\n",
       "      <th>temp</th>\n",
       "      <th>Boarea</th>\n",
       "      <th>Biarea</th>\n",
       "    </tr>\n",
       "  </thead>\n",
       "  <tbody>\n",
       "    <tr>\n",
       "      <th>34</th>\n",
       "      <td>3980000.0</td>\n",
       "      <td>3395000.0</td>\n",
       "      <td>42340.0</td>\n",
       "      <td>42340.425532</td>\n",
       "      <td>94.0</td>\n",
       "      <td>12.0</td>\n",
       "    </tr>\n",
       "    <tr>\n",
       "      <th>76</th>\n",
       "      <td>3260000.0</td>\n",
       "      <td>3250000.0</td>\n",
       "      <td>33958.0</td>\n",
       "      <td>33958.333333</td>\n",
       "      <td>96.0</td>\n",
       "      <td>0.0</td>\n",
       "    </tr>\n",
       "    <tr>\n",
       "      <th>86</th>\n",
       "      <td>3170000.0</td>\n",
       "      <td>2950000.0</td>\n",
       "      <td>44028.0</td>\n",
       "      <td>44027.777778</td>\n",
       "      <td>72.0</td>\n",
       "      <td>0.0</td>\n",
       "    </tr>\n",
       "    <tr>\n",
       "      <th>98</th>\n",
       "      <td>3200000.0</td>\n",
       "      <td>2895000.0</td>\n",
       "      <td>38095.0</td>\n",
       "      <td>38095.238095</td>\n",
       "      <td>84.0</td>\n",
       "      <td>0.0</td>\n",
       "    </tr>\n",
       "    <tr>\n",
       "      <th>135</th>\n",
       "      <td>3855000.0</td>\n",
       "      <td>3695000.0</td>\n",
       "      <td>55071.0</td>\n",
       "      <td>55071.428571</td>\n",
       "      <td>70.0</td>\n",
       "      <td>35.0</td>\n",
       "    </tr>\n",
       "  </tbody>\n",
       "</table>\n",
       "</div>"
      ],
      "text/plain": [
       "         price  Begärt pris  Pris per kvadratmeter          temp  Boarea  \\\n",
       "34   3980000.0    3395000.0                42340.0  42340.425532    94.0   \n",
       "76   3260000.0    3250000.0                33958.0  33958.333333    96.0   \n",
       "86   3170000.0    2950000.0                44028.0  44027.777778    72.0   \n",
       "98   3200000.0    2895000.0                38095.0  38095.238095    84.0   \n",
       "135  3855000.0    3695000.0                55071.0  55071.428571    70.0   \n",
       "\n",
       "     Biarea  \n",
       "34     12.0  \n",
       "76      0.0  \n",
       "86      0.0  \n",
       "98      0.0  \n",
       "135    35.0  "
      ]
     },
     "execution_count": 115,
     "metadata": {},
     "output_type": "execute_result"
    }
   ],
   "source": [
    "house_data_[['price','Begärt pris','Pris per kvadratmeter','temp','Boarea','Biarea']].head()"
   ]
  },
  {
   "cell_type": "code",
   "execution_count": 116,
   "metadata": {},
   "outputs": [
    {
     "data": {
      "text/plain": [
       "<matplotlib.axes._subplots.AxesSubplot at 0x131b09b70>"
      ]
     },
     "execution_count": 116,
     "metadata": {},
     "output_type": "execute_result"
    },
    {
     "data": {
      "image/png": "[encoded data removed]",
      "text/plain": [
       "<Figure size 1440x720 with 1 Axes>"
      ]
     },
     "metadata": {
      "needs_background": "light"
     },
     "output_type": "display_data"
    }
   ],
   "source": [
    "house_data_['Pris per kvadratmeter'].hist(bins = 40)"
   ]
  },
  {
   "cell_type": "code",
   "execution_count": 117,
   "metadata": {},
   "outputs": [
    {
     "data": {
      "text/plain": [
       "<matplotlib.axes._subplots.AxesSubplot at 0x1323a6cc0>"
      ]
     },
     "execution_count": 117,
     "metadata": {},
     "output_type": "execute_result"
    },
    {
     "data": {
      "image/png": "[encoded data removed]",
      "text/plain": [
       "<Figure size 1440x720 with 1 Axes>"
      ]
     },
     "metadata": {
      "needs_background": "light"
     },
     "output_type": "display_data"
    }
   ],
   "source": [
    "house_data_['price'].hist(bins = 40)"
   ]
  },
  {
   "cell_type": "code",
   "execution_count": 118,
   "metadata": {},
   "outputs": [
    {
     "data": {
      "text/plain": [
       "41666.666666666664"
      ]
     },
     "execution_count": 118,
     "metadata": {},
     "output_type": "execute_result"
    }
   ],
   "source": [
    "3000000 / 72"
   ]
  },
  {
   "cell_type": "code",
   "execution_count": 119,
   "metadata": {},
   "outputs": [
    {
     "data": {
      "text/plain": [
       "62500.0"
      ]
     },
     "execution_count": 119,
     "metadata": {},
     "output_type": "execute_result"
    }
   ],
   "source": [
    "4500000 / 72"
   ]
  },
  {
   "cell_type": "code",
   "execution_count": 69,
   "metadata": {},
   "outputs": [
    {
     "data": {
      "text/plain": [
       "array(['radhus', 'villa'], dtype=object)"
      ]
     },
     "execution_count": 69,
     "metadata": {},
     "output_type": "execute_result"
    }
   ],
   "source": [
    "house_data_['type'].unique()"
   ]
  },
  {
   "cell_type": "code",
   "execution_count": 97,
   "metadata": {},
   "outputs": [
    {
     "data": {
      "text/plain": [
       "3739837.398373984"
      ]
     },
     "execution_count": 97,
     "metadata": {},
     "output_type": "execute_result"
    }
   ],
   "source": [
    "4600000/(1.23)"
   ]
  },
  {
   "cell_type": "code",
   "execution_count": null,
   "metadata": {},
   "outputs": [],
   "source": []
  }
 ],
 "metadata": {
  "kernelspec": {
   "display_name": "Python 3",
   "language": "python",
   "name": "python3"
  },
  "language_info": {
   "codemirror_mode": {
    "name": "ipython",
    "version": 3
   },
   "file_extension": ".py",
   "mimetype": "text/x-python",
   "name": "python",
   "nbconvert_exporter": "python",
   "pygments_lexer": "ipython3",
   "version": "3.6.5"
  }
 },
 "nbformat": 4,
 "nbformat_minor": 2
}